{
 "cells": [
  {
   "cell_type": "code",
   "execution_count": 1,
   "id": "8c09895a-bbbd-4a02-8ad8-79e9be5a91c2",
   "metadata": {},
   "outputs": [
    {
     "data": {
      "text/plain": [
       "Int64"
      ]
     },
     "execution_count": 1,
     "metadata": {},
     "output_type": "execute_result"
    }
   ],
   "source": [
    "Int64"
   ]
  },
  {
   "cell_type": "code",
   "execution_count": 2,
   "id": "ac54337c-e332-4e0a-b9ff-126dcf3a45f7",
   "metadata": {},
   "outputs": [
    {
     "data": {
      "text/plain": [
       "Int32"
      ]
     },
     "execution_count": 2,
     "metadata": {},
     "output_type": "execute_result"
    }
   ],
   "source": [
    "Int32"
   ]
  },
  {
   "cell_type": "code",
   "execution_count": 3,
   "id": "bc2042e1-061e-4fcb-bbb8-5496b1fe7612",
   "metadata": {},
   "outputs": [
    {
     "data": {
      "text/plain": [
       "Int8"
      ]
     },
     "execution_count": 3,
     "metadata": {},
     "output_type": "execute_result"
    }
   ],
   "source": [
    "Int8"
   ]
  },
  {
   "cell_type": "code",
   "execution_count": 4,
   "id": "ce0561d3-fee2-4545-a1d7-3a0bba3b30df",
   "metadata": {},
   "outputs": [
    {
     "data": {
      "text/plain": [
       "-56"
      ]
     },
     "execution_count": 4,
     "metadata": {},
     "output_type": "execute_result"
    }
   ],
   "source": [
    "Int8(100) + Int8(100)"
   ]
  },
  {
   "cell_type": "code",
   "execution_count": 5,
   "id": "77468660-9300-4a4f-bf25-97b49d33d960",
   "metadata": {},
   "outputs": [
    {
     "data": {
      "text/plain": [
       "101"
      ]
     },
     "execution_count": 5,
     "metadata": {},
     "output_type": "execute_result"
    }
   ],
   "source": [
    "Int8(100) + Int8(1)"
   ]
  },
  {
   "cell_type": "code",
   "execution_count": 6,
   "id": "d1b76a34-217c-409f-9f96-afe648d153be",
   "metadata": {},
   "outputs": [
    {
     "data": {
      "text/plain": [
       "9223372036854775807"
      ]
     },
     "execution_count": 6,
     "metadata": {},
     "output_type": "execute_result"
    }
   ],
   "source": [
    "x = 2^63 - 1"
   ]
  },
  {
   "cell_type": "code",
   "execution_count": 8,
   "id": "644b3581-8647-42ba-8bc6-e16ee3d19388",
   "metadata": {},
   "outputs": [
    {
     "data": {
      "text/plain": [
       "-9223372036854775808"
      ]
     },
     "execution_count": 8,
     "metadata": {},
     "output_type": "execute_result"
    }
   ],
   "source": [
    "# Overflow!\n",
    "x + 1"
   ]
  },
  {
   "cell_type": "code",
   "execution_count": 9,
   "id": "31c51e48-ccc3-4857-bc55-8cfd98064b87",
   "metadata": {},
   "outputs": [
    {
     "data": {
      "text/plain": [
       "9223372036854775807"
      ]
     },
     "execution_count": 9,
     "metadata": {},
     "output_type": "execute_result"
    }
   ],
   "source": [
    "-x -2"
   ]
  },
  {
   "cell_type": "code",
   "execution_count": 10,
   "id": "90ea4d79-95c6-420c-9a49-8d6ce7f14a4b",
   "metadata": {},
   "outputs": [
    {
     "data": {
      "text/plain": [
       "124"
      ]
     },
     "execution_count": 10,
     "metadata": {},
     "output_type": "execute_result"
    }
   ],
   "source": [
    "y = 2*62"
   ]
  },
  {
   "cell_type": "code",
   "execution_count": 11,
   "id": "2d8b7c11-f817-49af-8a06-1e073ce6ac22",
   "metadata": {},
   "outputs": [
    {
     "data": {
      "text/plain": [
       "4611686018427387904"
      ]
     },
     "execution_count": 11,
     "metadata": {},
     "output_type": "execute_result"
    }
   ],
   "source": [
    "y = 2^62"
   ]
  },
  {
   "cell_type": "code",
   "execution_count": 13,
   "id": "c7d5d6f9-4f0e-4dbe-af47-a217e7be4eaf",
   "metadata": {},
   "outputs": [
    {
     "data": {
      "text/plain": [
       "9223372036854775807"
      ]
     },
     "execution_count": 13,
     "metadata": {},
     "output_type": "execute_result"
    }
   ],
   "source": [
    "x = BigInt(2)^63 - 1"
   ]
  },
  {
   "cell_type": "code",
   "execution_count": 14,
   "id": "e61a1029-5ea9-4aed-8a97-5cccd64777cf",
   "metadata": {},
   "outputs": [
    {
     "data": {
      "text/plain": [
       "3082994025277634712274218621887248264746878848022492393788592018245624105661068960082049139767154964622989504090356054360377084679667453362206606318471771422214522975217174932705232158015638890758890782954309351990252346228778867846863811861413315535059523690101213673658387136123894091476649421691318568305376636214768559265619249031942080986186810709138278773222013274761459607517363513573990508050910244119641181785872005325587077428224362001782082383264450054759407336072361244488250011459419026161642222140990831931982524829669814377730869295821236745291913736733938726191291514720875413372559717537842225262882701789087016150292043258080777840476049149788951559909340939916846831667701163502968850686436323097495040973075279967981310335191008326846366253327084136038924932530570995472508548320666870612510983779700903053777586143027154464735029052197048228363268395389741829873684539921289390205932148264661461005140635374501548979591599445183252618659355946617633893791955024447304049586033664560554265150566412649854091778807783291941884596428719367675833496612736444235663195284857021661745517844378433724806055014192829630709602720452792197232944636272800368975355533688165316923368867617613422905246188362642339892572528659083831957367771099833915444948720962004672571570203119257901710999344776666691407838739634778320342263080985606743166500599564750765662762098982490941098220144597339760107698040411546369717227072373467704765786838647553623869973886470730837981537470175987258584770857198858335229220022419255742669355731665115927569402840710426012795656895115090147230381650610422301435303009746812562780001081784373828241768812870468291441850159304139313974960833916094336141954523597148478635733767053850240444113175871720595123894658710172578727468275080420116845596336332907644504454384840949567147117315213599160818387739337579137054940161904794194854570646234321649664000001"
      ]
     },
     "execution_count": 14,
     "metadata": {},
     "output_type": "execute_result"
    }
   ],
   "source": [
    "x^100"
   ]
  },
  {
   "cell_type": "code",
   "execution_count": 1,
   "id": "fd508a63-a894-423d-a517-0d18c734bb5b",
   "metadata": {},
   "outputs": [
    {
     "data": {
      "text/plain": [
       "2.037035976334486e90"
      ]
     },
     "execution_count": 1,
     "metadata": {},
     "output_type": "execute_result"
    }
   ],
   "source": [
    "2.0^300"
   ]
  },
  {
   "cell_type": "code",
   "execution_count": 2,
   "id": "0d05a354-1eb0-4f46-a9d5-ac8b739c5e70",
   "metadata": {},
   "outputs": [
    {
     "data": {
      "text/plain": [
       "2.0859248397665138e93"
      ]
     },
     "execution_count": 2,
     "metadata": {},
     "output_type": "execute_result"
    }
   ],
   "source": [
    "2.0^310"
   ]
  },
  {
   "cell_type": "code",
   "execution_count": 10,
   "id": "8b127e87-d5f4-4087-8248-ca1e3c32deca",
   "metadata": {},
   "outputs": [
    {
     "data": {
      "text/plain": [
       "Inf"
      ]
     },
     "execution_count": 10,
     "metadata": {},
     "output_type": "execute_result"
    }
   ],
   "source": [
    "x = 10.0^309"
   ]
  },
  {
   "cell_type": "code",
   "execution_count": 8,
   "id": "00a29bb5-6ae2-4b86-858e-e6e529fb8912",
   "metadata": {},
   "outputs": [
    {
     "data": {
      "text/plain": [
       "Inf"
      ]
     },
     "execution_count": 8,
     "metadata": {},
     "output_type": "execute_result"
    }
   ],
   "source": [
    "y = 8.0^410"
   ]
  },
  {
   "cell_type": "code",
   "execution_count": 11,
   "id": "556eb30a-790d-4b87-8d94-1c5f34f613d8",
   "metadata": {},
   "outputs": [
    {
     "data": {
      "text/plain": [
       "NaN"
      ]
     },
     "execution_count": 11,
     "metadata": {},
     "output_type": "execute_result"
    }
   ],
   "source": [
    "x/y"
   ]
  },
  {
   "cell_type": "code",
   "execution_count": 12,
   "id": "a8ca4562-805b-44a8-8d81-0012652b5215",
   "metadata": {},
   "outputs": [
    {
     "data": {
      "text/plain": [
       "NaN"
      ]
     },
     "execution_count": 12,
     "metadata": {},
     "output_type": "execute_result"
    }
   ],
   "source": [
    "x - y"
   ]
  },
  {
   "cell_type": "code",
   "execution_count": 13,
   "id": "e5153074-1bae-4a79-a7a8-2d500b64a8f2",
   "metadata": {},
   "outputs": [
    {
     "data": {
      "text/plain": [
       "Inf"
      ]
     },
     "execution_count": 13,
     "metadata": {},
     "output_type": "execute_result"
    }
   ],
   "source": [
    "1 / 0"
   ]
  },
  {
   "cell_type": "code",
   "execution_count": 14,
   "id": "700babdb-79e5-483a-ba11-3fa143c9f33e",
   "metadata": {},
   "outputs": [
    {
     "data": {
      "text/plain": [
       "NaN"
      ]
     },
     "execution_count": 14,
     "metadata": {},
     "output_type": "execute_result"
    }
   ],
   "source": [
    "0 / 0"
   ]
  },
  {
   "cell_type": "code",
   "execution_count": 15,
   "id": "11ade2ca-832d-49c5-95b3-5f304227c3a1",
   "metadata": {},
   "outputs": [
    {
     "data": {
      "text/plain": [
       "Inf"
      ]
     },
     "execution_count": 15,
     "metadata": {},
     "output_type": "execute_result"
    }
   ],
   "source": [
    "x"
   ]
  },
  {
   "cell_type": "code",
   "execution_count": 16,
   "id": "c1f630a2-7e1d-4e96-b3ff-f01f63c3e3e9",
   "metadata": {},
   "outputs": [
    {
     "data": {
      "text/plain": [
       "Inf"
      ]
     },
     "execution_count": 16,
     "metadata": {},
     "output_type": "execute_result"
    }
   ],
   "source": [
    "x / 0"
   ]
  },
  {
   "cell_type": "code",
   "execution_count": 17,
   "id": "711a0a94-7402-4bcd-94eb-6700f18f1257",
   "metadata": {},
   "outputs": [
    {
     "data": {
      "text/plain": [
       "Inf"
      ]
     },
     "execution_count": 17,
     "metadata": {},
     "output_type": "execute_result"
    }
   ],
   "source": [
    "1 / -0"
   ]
  },
  {
   "cell_type": "code",
   "execution_count": 18,
   "id": "da14c1d5-e411-49e9-b674-6e714bb9e17a",
   "metadata": {},
   "outputs": [
    {
     "data": {
      "text/plain": [
       "0.00390625"
      ]
     },
     "execution_count": 18,
     "metadata": {},
     "output_type": "execute_result"
    }
   ],
   "source": [
    "1 / 256"
   ]
  },
  {
   "cell_type": "code",
   "execution_count": 19,
   "id": "4fedf70d-942c-48c1-9ae8-9f3cfaac0b40",
   "metadata": {},
   "outputs": [
    {
     "data": {
      "text/plain": [
       "0.0036101083032490976"
      ]
     },
     "execution_count": 19,
     "metadata": {},
     "output_type": "execute_result"
    }
   ],
   "source": [
    "1 / 277"
   ]
  },
  {
   "cell_type": "code",
   "execution_count": 29,
   "id": "d554c7c3-1b3b-4585-94ba-8a3fc9fca77c",
   "metadata": {},
   "outputs": [
    {
     "data": {
      "text/plain": [
       "Inf"
      ]
     },
     "execution_count": 29,
     "metadata": {},
     "output_type": "execute_result"
    }
   ],
   "source": [
    "Y = 1/(10^10^10)"
   ]
  },
  {
   "cell_type": "code",
   "execution_count": 30,
   "id": "d2a8690a-38ac-41af-93cc-8202543cded0",
   "metadata": {},
   "outputs": [
    {
     "data": {
      "text/plain": [
       "1.0000000000000002"
      ]
     },
     "execution_count": 30,
     "metadata": {},
     "output_type": "execute_result"
    }
   ],
   "source": [
    "1 + (1e-16 + 1e-16)"
   ]
  },
  {
   "cell_type": "code",
   "execution_count": 42,
   "id": "301786ec-33ea-494e-ac70-d36f280d7833",
   "metadata": {},
   "outputs": [
    {
     "data": {
      "text/plain": [
       "0.5"
      ]
     },
     "execution_count": 42,
     "metadata": {},
     "output_type": "execute_result"
    }
   ],
   "source": [
    "h = 2.0^(-30)\n",
    "a = 1.0\n",
    "1/2/sqrt(a)\n",
    "(sqrt(a + h) - sqrt(a) ) / h"
   ]
  },
  {
   "cell_type": "code",
   "execution_count": 45,
   "id": "34a4e703-2f4e-48cb-80a7-78c66303b746",
   "metadata": {},
   "outputs": [],
   "source": [
    "using Plots\n",
    "gr(size=(400,300))\n",
    "plot(rand(3), rand(3))\n",
    "nothing"
   ]
  },
  {
   "cell_type": "code",
   "execution_count": 64,
   "id": "5807d0b8-9c43-410e-aa64-26a52787196e",
   "metadata": {},
   "outputs": [
    {
     "data": {
      "image/png": "[encoded data removed]",
      "image/svg+xml": [
       "<?xml version=\"1.0\" encoding=\"utf-8\"?>\n",
       "<svg xmlns=\"http://www.w3.org/2000/svg\" xmlns:xlink=\"http://www.w3.org/1999/xlink\" width=\"400\" height=\"300\" viewBox=\"0 0 1600 1200\">\n",
       "<defs>\n",
       "  <clipPath id=\"clip840\">\n",
       "    <rect x=\"0\" y=\"0\" width=\"1600\" height=\"1200\"/>\n",
       "  </clipPath>\n",
       "</defs>\n",
       "<path clip-path=\"url(#clip840)\" d=\"M0 1200 L1600 1200 L1600 0 L0 0  Z\" fill=\"#ffffff\" fill-rule=\"evenodd\" fill-opacity=\"1\"/>\n",
       "<defs>\n",
       "  <clipPath id=\"clip841\">\n",
       "    <rect x=\"320\" y=\"0\" width=\"1121\" height=\"1121\"/>\n",
       "  </clipPath>\n",
       "</defs>\n",
       "<path clip-path=\"url(#clip840)\" d=\"M205.607 1072.31 L1552.76 1072.31 L1552.76 47.2441 L205.607 47.2441  Z\" fill=\"#ffffff\" fill-rule=\"evenodd\" fill-opacity=\"1\"/>\n",
       "<defs>\n",
       "  <clipPath id=\"clip842\">\n",
       "    <rect x=\"205\" y=\"47\" width=\"1348\" height=\"1026\"/>\n",
       "  </clipPath>\n",
       "</defs>\n",
       "<polyline clip-path=\"url(#clip842)\" style=\"stroke:#000000; stroke-linecap:round; stroke-linejoin:round; stroke-width:2; stroke-opacity:0.1; fill:none\" points=\"249.17,1072.31 249.17,47.2441 \"/>\n",
       "<polyline clip-path=\"url(#clip842)\" style=\"stroke:#000000; stroke-linecap:round; stroke-linejoin:round; stroke-width:2; stroke-opacity:0.1; fill:none\" points=\"776.898,1072.31 776.898,47.2441 \"/>\n",
       "<polyline clip-path=\"url(#clip842)\" style=\"stroke:#000000; stroke-linecap:round; stroke-linejoin:round; stroke-width:2; stroke-opacity:0.1; fill:none\" points=\"1304.63,1072.31 1304.63,47.2441 \"/>\n",
       "<polyline clip-path=\"url(#clip840)\" style=\"stroke:#000000; stroke-linecap:round; stroke-linejoin:round; stroke-width:4; stroke-opacity:1; fill:none\" points=\"205.607,1072.31 1552.76,1072.31 \"/>\n",
       "<polyline clip-path=\"url(#clip840)\" style=\"stroke:#000000; stroke-linecap:round; stroke-linejoin:round; stroke-width:4; stroke-opacity:1; fill:none\" points=\"249.17,1072.31 249.17,1053.41 \"/>\n",
       "<polyline clip-path=\"url(#clip840)\" style=\"stroke:#000000; stroke-linecap:round; stroke-linejoin:round; stroke-width:4; stroke-opacity:1; fill:none\" points=\"776.898,1072.31 776.898,1053.41 \"/>\n",
       "<polyline clip-path=\"url(#clip840)\" style=\"stroke:#000000; stroke-linecap:round; stroke-linejoin:round; stroke-width:4; stroke-opacity:1; fill:none\" points=\"1304.63,1072.31 1304.63,1053.41 \"/>\n",
       "<path clip-path=\"url(#clip840)\" d=\"M186.938 1140.03 L194.577 1140.03 L194.577 1113.67 L186.267 1115.34 L186.267 1111.08 L194.53 1109.41 L199.206 1109.41 L199.206 1140.03 L206.845 1140.03 L206.845 1143.97 L186.938 1143.97 L186.938 1140.03 Z\" fill=\"#000000\" fill-rule=\"nonzero\" fill-opacity=\"1\" /><path clip-path=\"url(#clip840)\" d=\"M226.29 1112.49 Q222.678 1112.49 220.85 1116.05 Q219.044 1119.59 219.044 1126.72 Q219.044 1133.83 220.85 1137.4 Q222.678 1140.94 226.29 1140.94 Q229.924 1140.94 231.729 1137.4 Q233.558 1133.83 233.558 1126.72 Q233.558 1119.59 231.729 1116.05 Q229.924 1112.49 226.29 1112.49 M226.29 1108.78 Q232.1 1108.78 235.155 1113.39 Q238.234 1117.97 238.234 1126.72 Q238.234 1135.45 235.155 1140.06 Q232.1 1144.64 226.29 1144.64 Q220.479 1144.64 217.401 1140.06 Q214.345 1135.45 214.345 1126.72 Q214.345 1117.97 217.401 1113.39 Q220.479 1108.78 226.29 1108.78 Z\" fill=\"#000000\" fill-rule=\"nonzero\" fill-opacity=\"1\" /><path clip-path=\"url(#clip840)\" d=\"M238.234 1102.89 L262.345 1102.89 L262.345 1106.08 L238.234 1106.08 L238.234 1102.89 Z\" fill=\"#000000\" fill-rule=\"nonzero\" fill-opacity=\"1\" /><path clip-path=\"url(#clip840)\" d=\"M271.204 1113.36 L277.41 1113.36 L277.41 1091.94 L270.658 1093.29 L270.658 1089.83 L277.373 1088.48 L281.172 1088.48 L281.172 1113.36 L287.379 1113.36 L287.379 1116.56 L271.204 1116.56 L271.204 1113.36 Z\" fill=\"#000000\" fill-rule=\"nonzero\" fill-opacity=\"1\" /><path clip-path=\"url(#clip840)\" d=\"M295.09 1088.48 L310.004 1088.48 L310.004 1091.68 L298.569 1091.68 L298.569 1098.56 Q299.397 1098.28 300.224 1098.15 Q301.052 1098 301.879 1098 Q306.581 1098 309.327 1100.57 Q312.073 1103.15 312.073 1107.55 Q312.073 1112.08 309.252 1114.6 Q306.431 1117.1 301.296 1117.1 Q299.528 1117.1 297.685 1116.8 Q295.861 1116.5 293.905 1115.9 L293.905 1112.08 Q295.598 1113 297.403 1113.46 Q299.209 1113.91 301.221 1113.91 Q304.475 1113.91 306.374 1112.2 Q308.274 1110.48 308.274 1107.55 Q308.274 1104.62 306.374 1102.9 Q304.475 1101.19 301.221 1101.19 Q299.698 1101.19 298.174 1101.53 Q296.67 1101.87 295.09 1102.58 L295.09 1088.48 Z\" fill=\"#000000\" fill-rule=\"nonzero\" fill-opacity=\"1\" /><path clip-path=\"url(#clip840)\" d=\"M714.261 1140.03 L721.9 1140.03 L721.9 1113.67 L713.59 1115.34 L713.59 1111.08 L721.854 1109.41 L726.53 1109.41 L726.53 1140.03 L734.168 1140.03 L734.168 1143.97 L714.261 1143.97 L714.261 1140.03 Z\" fill=\"#000000\" fill-rule=\"nonzero\" fill-opacity=\"1\" /><path clip-path=\"url(#clip840)\" d=\"M753.613 1112.49 Q750.002 1112.49 748.173 1116.05 Q746.367 1119.59 746.367 1126.72 Q746.367 1133.83 748.173 1137.4 Q750.002 1140.94 753.613 1140.94 Q757.247 1140.94 759.053 1137.4 Q760.881 1133.83 760.881 1126.72 Q760.881 1119.59 759.053 1116.05 Q757.247 1112.49 753.613 1112.49 M753.613 1108.78 Q759.423 1108.78 762.478 1113.39 Q765.557 1117.97 765.557 1126.72 Q765.557 1135.45 762.478 1140.06 Q759.423 1144.64 753.613 1144.64 Q747.803 1144.64 744.724 1140.06 Q741.668 1135.45 741.668 1126.72 Q741.668 1117.97 744.724 1113.39 Q747.803 1108.78 753.613 1108.78 Z\" fill=\"#000000\" fill-rule=\"nonzero\" fill-opacity=\"1\" /><path clip-path=\"url(#clip840)\" d=\"M765.557 1102.89 L789.669 1102.89 L789.669 1106.08 L765.557 1106.08 L765.557 1102.89 Z\" fill=\"#000000\" fill-rule=\"nonzero\" fill-opacity=\"1\" /><path clip-path=\"url(#clip840)\" d=\"M798.527 1113.36 L804.734 1113.36 L804.734 1091.94 L797.982 1093.29 L797.982 1089.83 L804.696 1088.48 L808.495 1088.48 L808.495 1113.36 L814.702 1113.36 L814.702 1116.56 L798.527 1116.56 L798.527 1113.36 Z\" fill=\"#000000\" fill-rule=\"nonzero\" fill-opacity=\"1\" /><path clip-path=\"url(#clip840)\" d=\"M830.5 1090.98 Q827.566 1090.98 826.081 1093.88 Q824.614 1096.75 824.614 1102.55 Q824.614 1108.32 826.081 1111.22 Q827.566 1114.1 830.5 1114.1 Q833.453 1114.1 834.92 1111.22 Q836.406 1108.32 836.406 1102.55 Q836.406 1096.75 834.92 1093.88 Q833.453 1090.98 830.5 1090.98 M830.5 1087.97 Q835.221 1087.97 837.704 1091.71 Q840.205 1095.44 840.205 1102.55 Q840.205 1109.64 837.704 1113.38 Q835.221 1117.1 830.5 1117.1 Q825.78 1117.1 823.278 1113.38 Q820.796 1109.64 820.796 1102.55 Q820.796 1095.44 823.278 1091.71 Q825.78 1087.97 830.5 1087.97 Z\" fill=\"#000000\" fill-rule=\"nonzero\" fill-opacity=\"1\" /><path clip-path=\"url(#clip840)\" d=\"M1254.65 1140.03 L1262.29 1140.03 L1262.29 1113.67 L1253.98 1115.34 L1253.98 1111.08 L1262.24 1109.41 L1266.91 1109.41 L1266.91 1140.03 L1274.55 1140.03 L1274.55 1143.97 L1254.65 1143.97 L1254.65 1140.03 Z\" fill=\"#000000\" fill-rule=\"nonzero\" fill-opacity=\"1\" /><path clip-path=\"url(#clip840)\" d=\"M1294 1112.49 Q1290.39 1112.49 1288.56 1116.05 Q1286.75 1119.59 1286.75 1126.72 Q1286.75 1133.83 1288.56 1137.4 Q1290.39 1140.94 1294 1140.94 Q1297.63 1140.94 1299.44 1137.4 Q1301.27 1133.83 1301.27 1126.72 Q1301.27 1119.59 1299.44 1116.05 Q1297.63 1112.49 1294 1112.49 M1294 1108.78 Q1299.81 1108.78 1302.86 1113.39 Q1305.94 1117.97 1305.94 1126.72 Q1305.94 1135.45 1302.86 1140.06 Q1299.81 1144.64 1294 1144.64 Q1288.19 1144.64 1285.11 1140.06 Q1282.05 1135.45 1282.05 1126.72 Q1282.05 1117.97 1285.11 1113.39 Q1288.19 1108.78 1294 1108.78 Z\" fill=\"#000000\" fill-rule=\"nonzero\" fill-opacity=\"1\" /><path clip-path=\"url(#clip840)\" d=\"M1305.94 1102.89 L1330.05 1102.89 L1330.05 1106.08 L1305.94 1106.08 L1305.94 1102.89 Z\" fill=\"#000000\" fill-rule=\"nonzero\" fill-opacity=\"1\" /><path clip-path=\"url(#clip840)\" d=\"M1338.29 1088.48 L1353.21 1088.48 L1353.21 1091.68 L1341.77 1091.68 L1341.77 1098.56 Q1342.6 1098.28 1343.43 1098.15 Q1344.25 1098 1345.08 1098 Q1349.78 1098 1352.53 1100.57 Q1355.28 1103.15 1355.28 1107.55 Q1355.28 1112.08 1352.45 1114.6 Q1349.63 1117.1 1344.5 1117.1 Q1342.73 1117.1 1340.89 1116.8 Q1339.06 1116.5 1337.11 1115.9 L1337.11 1112.08 Q1338.8 1113 1340.61 1113.46 Q1342.41 1113.91 1344.42 1113.91 Q1347.68 1113.91 1349.58 1112.2 Q1351.48 1110.48 1351.48 1107.55 Q1351.48 1104.62 1349.58 1102.9 Q1347.68 1101.19 1344.42 1101.19 Q1342.9 1101.19 1341.38 1101.53 Q1339.87 1101.87 1338.29 1102.58 L1338.29 1088.48 Z\" fill=\"#000000\" fill-rule=\"nonzero\" fill-opacity=\"1\" /><polyline clip-path=\"url(#clip842)\" style=\"stroke:#000000; stroke-linecap:round; stroke-linejoin:round; stroke-width:2; stroke-opacity:0.1; fill:none\" points=\"205.607,1043.3 1552.76,1043.3 \"/>\n",
       "<polyline clip-path=\"url(#clip842)\" style=\"stroke:#000000; stroke-linecap:round; stroke-linejoin:round; stroke-width:2; stroke-opacity:0.1; fill:none\" points=\"205.607,498.036 1552.76,498.036 \"/>\n",
       "<polyline clip-path=\"url(#clip840)\" style=\"stroke:#000000; stroke-linecap:round; stroke-linejoin:round; stroke-width:4; stroke-opacity:1; fill:none\" points=\"205.607,1072.31 205.607,47.2441 \"/>\n",
       "<polyline clip-path=\"url(#clip840)\" style=\"stroke:#000000; stroke-linecap:round; stroke-linejoin:round; stroke-width:4; stroke-opacity:1; fill:none\" points=\"205.607,1043.3 224.505,1043.3 \"/>\n",
       "<polyline clip-path=\"url(#clip840)\" style=\"stroke:#000000; stroke-linecap:round; stroke-linejoin:round; stroke-width:4; stroke-opacity:1; fill:none\" points=\"205.607,498.036 224.505,498.036 \"/>\n",
       "<path clip-path=\"url(#clip840)\" d=\"M55.6634 1063.09 L63.3023 1063.09 L63.3023 1036.72 L54.9921 1038.39 L54.9921 1034.13 L63.256 1032.47 L67.9319 1032.47 L67.9319 1063.09 L75.5707 1063.09 L75.5707 1067.03 L55.6634 1067.03 L55.6634 1063.09 Z\" fill=\"#000000\" fill-rule=\"nonzero\" fill-opacity=\"1\" /><path clip-path=\"url(#clip840)\" d=\"M95.0151 1035.54 Q91.404 1035.54 89.5753 1039.11 Q87.7697 1042.65 87.7697 1049.78 Q87.7697 1056.89 89.5753 1060.45 Q91.404 1063.99 95.0151 1063.99 Q98.6493 1063.99 100.455 1060.45 Q102.284 1056.89 102.284 1049.78 Q102.284 1042.65 100.455 1039.11 Q98.6493 1035.54 95.0151 1035.54 M95.0151 1031.84 Q100.825 1031.84 103.881 1036.45 Q106.959 1041.03 106.959 1049.78 Q106.959 1058.51 103.881 1063.11 Q100.825 1067.7 95.0151 1067.7 Q89.2049 1067.7 86.1262 1063.11 Q83.0707 1058.51 83.0707 1049.78 Q83.0707 1041.03 86.1262 1036.45 Q89.2049 1031.84 95.0151 1031.84 Z\" fill=\"#000000\" fill-rule=\"nonzero\" fill-opacity=\"1\" /><path clip-path=\"url(#clip840)\" d=\"M106.959 1025.94 L131.071 1025.94 L131.071 1029.14 L106.959 1029.14 L106.959 1025.94 Z\" fill=\"#000000\" fill-rule=\"nonzero\" fill-opacity=\"1\" /><path clip-path=\"url(#clip840)\" d=\"M142.544 1036.42 L155.803 1036.42 L155.803 1039.62 L137.973 1039.62 L137.973 1036.42 Q140.136 1034.18 143.86 1030.42 Q147.603 1026.64 148.562 1025.55 Q150.387 1023.5 151.101 1022.09 Q151.835 1020.66 151.835 1019.28 Q151.835 1017.05 150.255 1015.64 Q148.694 1014.22 146.174 1014.22 Q144.387 1014.22 142.393 1014.85 Q140.418 1015.47 138.162 1016.73 L138.162 1012.89 Q140.456 1011.97 142.45 1011.5 Q144.443 1011.03 146.098 1011.03 Q150.462 1011.03 153.057 1013.21 Q155.653 1015.39 155.653 1019.04 Q155.653 1020.77 154.994 1022.33 Q154.355 1023.87 152.644 1025.98 Q152.173 1026.52 149.653 1029.14 Q147.133 1031.73 142.544 1036.42 Z\" fill=\"#000000\" fill-rule=\"nonzero\" fill-opacity=\"1\" /><path clip-path=\"url(#clip840)\" d=\"M171.903 1014.04 Q168.969 1014.04 167.483 1016.93 Q166.016 1019.81 166.016 1025.6 Q166.016 1031.38 167.483 1034.27 Q168.969 1037.15 171.903 1037.15 Q174.855 1037.15 176.322 1034.27 Q177.808 1031.38 177.808 1025.6 Q177.808 1019.81 176.322 1016.93 Q174.855 1014.04 171.903 1014.04 M171.903 1011.03 Q176.623 1011.03 179.106 1014.77 Q181.607 1018.49 181.607 1025.6 Q181.607 1032.69 179.106 1036.44 Q176.623 1040.16 171.903 1040.16 Q167.182 1040.16 164.68 1036.44 Q162.198 1032.69 162.198 1025.6 Q162.198 1018.49 164.68 1014.77 Q167.182 1011.03 171.903 1011.03 Z\" fill=\"#000000\" fill-rule=\"nonzero\" fill-opacity=\"1\" /><path clip-path=\"url(#clip840)\" d=\"M55.6634 517.829 L63.3023 517.829 L63.3023 491.463 L54.9921 493.13 L54.9921 488.871 L63.256 487.204 L67.9319 487.204 L67.9319 517.829 L75.5707 517.829 L75.5707 521.764 L55.6634 521.764 L55.6634 517.829 Z\" fill=\"#000000\" fill-rule=\"nonzero\" fill-opacity=\"1\" /><path clip-path=\"url(#clip840)\" d=\"M95.0151 490.283 Q91.404 490.283 89.5753 493.848 Q87.7697 497.389 87.7697 504.519 Q87.7697 511.625 89.5753 515.19 Q91.404 518.732 95.0151 518.732 Q98.6493 518.732 100.455 515.19 Q102.284 511.625 102.284 504.519 Q102.284 497.389 100.455 493.848 Q98.6493 490.283 95.0151 490.283 M95.0151 486.579 Q100.825 486.579 103.881 491.186 Q106.959 495.769 106.959 504.519 Q106.959 513.246 103.881 517.852 Q100.825 522.435 95.0151 522.435 Q89.2049 522.435 86.1262 517.852 Q83.0707 513.246 83.0707 504.519 Q83.0707 495.769 86.1262 491.186 Q89.2049 486.579 95.0151 486.579 Z\" fill=\"#000000\" fill-rule=\"nonzero\" fill-opacity=\"1\" /><path clip-path=\"url(#clip840)\" d=\"M106.959 480.68 L131.071 480.68 L131.071 483.878 L106.959 483.878 L106.959 480.68 Z\" fill=\"#000000\" fill-rule=\"nonzero\" fill-opacity=\"1\" /><path clip-path=\"url(#clip840)\" d=\"M139.929 491.156 L146.136 491.156 L146.136 469.734 L139.384 471.088 L139.384 467.628 L146.098 466.274 L149.898 466.274 L149.898 491.156 L156.104 491.156 L156.104 494.354 L139.929 494.354 L139.929 491.156 Z\" fill=\"#000000\" fill-rule=\"nonzero\" fill-opacity=\"1\" /><path clip-path=\"url(#clip840)\" d=\"M171.903 468.775 Q168.969 468.775 167.483 471.671 Q166.016 474.549 166.016 480.342 Q166.016 486.116 167.483 489.012 Q168.969 491.89 171.903 491.89 Q174.855 491.89 176.322 489.012 Q177.808 486.116 177.808 480.342 Q177.808 474.549 176.322 471.671 Q174.855 468.775 171.903 468.775 M171.903 465.766 Q176.623 465.766 179.106 469.509 Q181.607 473.233 181.607 480.342 Q181.607 487.432 179.106 491.175 Q176.623 494.899 171.903 494.899 Q167.182 494.899 164.68 491.175 Q162.198 487.432 162.198 480.342 Q162.198 473.233 164.68 469.509 Q167.182 465.766 171.903 465.766 Z\" fill=\"#000000\" fill-rule=\"nonzero\" fill-opacity=\"1\" /><circle clip-path=\"url(#clip842)\" cx=\"243.734\" cy=\"1043.3\" r=\"10.8\" fill=\"#ff0000\" fill-rule=\"evenodd\" fill-opacity=\"1\" stroke=\"#000000\" stroke-opacity=\"1\" stroke-width=\"2.4\"/>\n",
       "<circle clip-path=\"url(#clip842)\" cx=\"256.572\" cy=\"1043.3\" r=\"10.8\" fill=\"#ff0000\" fill-rule=\"evenodd\" fill-opacity=\"1\" stroke=\"#000000\" stroke-opacity=\"1\" stroke-width=\"2.4\"/>\n",
       "<circle clip-path=\"url(#clip842)\" cx=\"269.409\" cy=\"1043.3\" r=\"10.8\" fill=\"#ff0000\" fill-rule=\"evenodd\" fill-opacity=\"1\" stroke=\"#000000\" stroke-opacity=\"1\" stroke-width=\"2.4\"/>\n",
       "<circle clip-path=\"url(#clip842)\" cx=\"282.246\" cy=\"1043.3\" r=\"10.8\" fill=\"#ff0000\" fill-rule=\"evenodd\" fill-opacity=\"1\" stroke=\"#000000\" stroke-opacity=\"1\" stroke-width=\"2.4\"/>\n",
       "<circle clip-path=\"url(#clip842)\" cx=\"295.084\" cy=\"1043.3\" r=\"10.8\" fill=\"#ff0000\" fill-rule=\"evenodd\" fill-opacity=\"1\" stroke=\"#000000\" stroke-opacity=\"1\" stroke-width=\"2.4\"/>\n",
       "<circle clip-path=\"url(#clip842)\" cx=\"307.921\" cy=\"1043.3\" r=\"10.8\" fill=\"#ff0000\" fill-rule=\"evenodd\" fill-opacity=\"1\" stroke=\"#000000\" stroke-opacity=\"1\" stroke-width=\"2.4\"/>\n",
       "<circle clip-path=\"url(#clip842)\" cx=\"320.758\" cy=\"1043.3\" r=\"10.8\" fill=\"#ff0000\" fill-rule=\"evenodd\" fill-opacity=\"1\" stroke=\"#000000\" stroke-opacity=\"1\" stroke-width=\"2.4\"/>\n",
       "<circle clip-path=\"url(#clip842)\" cx=\"333.596\" cy=\"1043.3\" r=\"10.8\" fill=\"#ff0000\" fill-rule=\"evenodd\" fill-opacity=\"1\" stroke=\"#000000\" stroke-opacity=\"1\" stroke-width=\"2.4\"/>\n",
       "<circle clip-path=\"url(#clip842)\" cx=\"346.433\" cy=\"76.2554\" r=\"10.8\" fill=\"#ff0000\" fill-rule=\"evenodd\" fill-opacity=\"1\" stroke=\"#000000\" stroke-opacity=\"1\" stroke-width=\"2.4\"/>\n",
       "<circle clip-path=\"url(#clip842)\" cx=\"359.27\" cy=\"93.6948\" r=\"10.8\" fill=\"#ff0000\" fill-rule=\"evenodd\" fill-opacity=\"1\" stroke=\"#000000\" stroke-opacity=\"1\" stroke-width=\"2.4\"/>\n",
       "<circle clip-path=\"url(#clip842)\" cx=\"372.108\" cy=\"108.645\" r=\"10.8\" fill=\"#ff0000\" fill-rule=\"evenodd\" fill-opacity=\"1\" stroke=\"#000000\" stroke-opacity=\"1\" stroke-width=\"2.4\"/>\n",
       "<circle clip-path=\"url(#clip842)\" cx=\"384.945\" cy=\"1043.3\" r=\"10.8\" fill=\"#ff0000\" fill-rule=\"evenodd\" fill-opacity=\"1\" stroke=\"#000000\" stroke-opacity=\"1\" stroke-width=\"2.4\"/>\n",
       "<circle clip-path=\"url(#clip842)\" cx=\"397.782\" cy=\"1043.3\" r=\"10.8\" fill=\"#ff0000\" fill-rule=\"evenodd\" fill-opacity=\"1\" stroke=\"#000000\" stroke-opacity=\"1\" stroke-width=\"2.4\"/>\n",
       "<circle clip-path=\"url(#clip842)\" cx=\"410.619\" cy=\"1043.3\" r=\"10.8\" fill=\"#ff0000\" fill-rule=\"evenodd\" fill-opacity=\"1\" stroke=\"#000000\" stroke-opacity=\"1\" stroke-width=\"2.4\"/>\n",
       "<circle clip-path=\"url(#clip842)\" cx=\"423.457\" cy=\"129.634\" r=\"10.8\" fill=\"#ff0000\" fill-rule=\"evenodd\" fill-opacity=\"1\" stroke=\"#000000\" stroke-opacity=\"1\" stroke-width=\"2.4\"/>\n",
       "<circle clip-path=\"url(#clip842)\" cx=\"436.294\" cy=\"1043.3\" r=\"10.8\" fill=\"#ff0000\" fill-rule=\"evenodd\" fill-opacity=\"1\" stroke=\"#000000\" stroke-opacity=\"1\" stroke-width=\"2.4\"/>\n",
       "<circle clip-path=\"url(#clip842)\" cx=\"449.131\" cy=\"1043.3\" r=\"10.8\" fill=\"#ff0000\" fill-rule=\"evenodd\" fill-opacity=\"1\" stroke=\"#000000\" stroke-opacity=\"1\" stroke-width=\"2.4\"/>\n",
       "<circle clip-path=\"url(#clip842)\" cx=\"461.969\" cy=\"1043.3\" r=\"10.8\" fill=\"#ff0000\" fill-rule=\"evenodd\" fill-opacity=\"1\" stroke=\"#000000\" stroke-opacity=\"1\" stroke-width=\"2.4\"/>\n",
       "<circle clip-path=\"url(#clip842)\" cx=\"474.806\" cy=\"1043.3\" r=\"10.8\" fill=\"#ff0000\" fill-rule=\"evenodd\" fill-opacity=\"1\" stroke=\"#000000\" stroke-opacity=\"1\" stroke-width=\"2.4\"/>\n",
       "<circle clip-path=\"url(#clip842)\" cx=\"487.643\" cy=\"1043.3\" r=\"10.8\" fill=\"#ff0000\" fill-rule=\"evenodd\" fill-opacity=\"1\" stroke=\"#000000\" stroke-opacity=\"1\" stroke-width=\"2.4\"/>\n",
       "<circle clip-path=\"url(#clip842)\" cx=\"500.481\" cy=\"1043.3\" r=\"10.8\" fill=\"#ff0000\" fill-rule=\"evenodd\" fill-opacity=\"1\" stroke=\"#000000\" stroke-opacity=\"1\" stroke-width=\"2.4\"/>\n",
       "<circle clip-path=\"url(#clip842)\" cx=\"513.318\" cy=\"1043.3\" r=\"10.8\" fill=\"#ff0000\" fill-rule=\"evenodd\" fill-opacity=\"1\" stroke=\"#000000\" stroke-opacity=\"1\" stroke-width=\"2.4\"/>\n",
       "<circle clip-path=\"url(#clip842)\" cx=\"526.155\" cy=\"1043.3\" r=\"10.8\" fill=\"#ff0000\" fill-rule=\"evenodd\" fill-opacity=\"1\" stroke=\"#000000\" stroke-opacity=\"1\" stroke-width=\"2.4\"/>\n",
       "<circle clip-path=\"url(#clip842)\" cx=\"538.993\" cy=\"1043.3\" r=\"10.8\" fill=\"#ff0000\" fill-rule=\"evenodd\" fill-opacity=\"1\" stroke=\"#000000\" stroke-opacity=\"1\" stroke-width=\"2.4\"/>\n",
       "<circle clip-path=\"url(#clip842)\" cx=\"551.83\" cy=\"1043.3\" r=\"10.8\" fill=\"#ff0000\" fill-rule=\"evenodd\" fill-opacity=\"1\" stroke=\"#000000\" stroke-opacity=\"1\" stroke-width=\"2.4\"/>\n",
       "<circle clip-path=\"url(#clip842)\" cx=\"564.667\" cy=\"1043.3\" r=\"10.8\" fill=\"#ff0000\" fill-rule=\"evenodd\" fill-opacity=\"1\" stroke=\"#000000\" stroke-opacity=\"1\" stroke-width=\"2.4\"/>\n",
       "<circle clip-path=\"url(#clip842)\" cx=\"577.505\" cy=\"1043.3\" r=\"10.8\" fill=\"#ff0000\" fill-rule=\"evenodd\" fill-opacity=\"1\" stroke=\"#000000\" stroke-opacity=\"1\" stroke-width=\"2.4\"/>\n",
       "<circle clip-path=\"url(#clip842)\" cx=\"590.342\" cy=\"211.395\" r=\"10.8\" fill=\"#ff0000\" fill-rule=\"evenodd\" fill-opacity=\"1\" stroke=\"#000000\" stroke-opacity=\"1\" stroke-width=\"2.4\"/>\n",
       "<circle clip-path=\"url(#clip842)\" cx=\"603.179\" cy=\"220.723\" r=\"10.8\" fill=\"#ff0000\" fill-rule=\"evenodd\" fill-opacity=\"1\" stroke=\"#000000\" stroke-opacity=\"1\" stroke-width=\"2.4\"/>\n",
       "<circle clip-path=\"url(#clip842)\" cx=\"616.017\" cy=\"1043.3\" r=\"10.8\" fill=\"#ff0000\" fill-rule=\"evenodd\" fill-opacity=\"1\" stroke=\"#000000\" stroke-opacity=\"1\" stroke-width=\"2.4\"/>\n",
       "<circle clip-path=\"url(#clip842)\" cx=\"628.854\" cy=\"1043.3\" r=\"10.8\" fill=\"#ff0000\" fill-rule=\"evenodd\" fill-opacity=\"1\" stroke=\"#000000\" stroke-opacity=\"1\" stroke-width=\"2.4\"/>\n",
       "<circle clip-path=\"url(#clip842)\" cx=\"641.691\" cy=\"230.193\" r=\"10.8\" fill=\"#ff0000\" fill-rule=\"evenodd\" fill-opacity=\"1\" stroke=\"#000000\" stroke-opacity=\"1\" stroke-width=\"2.4\"/>\n",
       "<circle clip-path=\"url(#clip842)\" cx=\"654.529\" cy=\"1043.3\" r=\"10.8\" fill=\"#ff0000\" fill-rule=\"evenodd\" fill-opacity=\"1\" stroke=\"#000000\" stroke-opacity=\"1\" stroke-width=\"2.4\"/>\n",
       "<circle clip-path=\"url(#clip842)\" cx=\"667.366\" cy=\"1043.3\" r=\"10.8\" fill=\"#ff0000\" fill-rule=\"evenodd\" fill-opacity=\"1\" stroke=\"#000000\" stroke-opacity=\"1\" stroke-width=\"2.4\"/>\n",
       "<circle clip-path=\"url(#clip842)\" cx=\"680.203\" cy=\"1043.3\" r=\"10.8\" fill=\"#ff0000\" fill-rule=\"evenodd\" fill-opacity=\"1\" stroke=\"#000000\" stroke-opacity=\"1\" stroke-width=\"2.4\"/>\n",
       "<circle clip-path=\"url(#clip842)\" cx=\"693.041\" cy=\"1043.3\" r=\"10.8\" fill=\"#ff0000\" fill-rule=\"evenodd\" fill-opacity=\"1\" stroke=\"#000000\" stroke-opacity=\"1\" stroke-width=\"2.4\"/>\n",
       "<circle clip-path=\"url(#clip842)\" cx=\"705.878\" cy=\"1043.3\" r=\"10.8\" fill=\"#ff0000\" fill-rule=\"evenodd\" fill-opacity=\"1\" stroke=\"#000000\" stroke-opacity=\"1\" stroke-width=\"2.4\"/>\n",
       "<circle clip-path=\"url(#clip842)\" cx=\"718.715\" cy=\"1043.3\" r=\"10.8\" fill=\"#ff0000\" fill-rule=\"evenodd\" fill-opacity=\"1\" stroke=\"#000000\" stroke-opacity=\"1\" stroke-width=\"2.4\"/>\n",
       "<circle clip-path=\"url(#clip842)\" cx=\"731.553\" cy=\"1043.3\" r=\"10.8\" fill=\"#ff0000\" fill-rule=\"evenodd\" fill-opacity=\"1\" stroke=\"#000000\" stroke-opacity=\"1\" stroke-width=\"2.4\"/>\n",
       "<circle clip-path=\"url(#clip842)\" cx=\"744.39\" cy=\"1043.3\" r=\"10.8\" fill=\"#ff0000\" fill-rule=\"evenodd\" fill-opacity=\"1\" stroke=\"#000000\" stroke-opacity=\"1\" stroke-width=\"2.4\"/>\n",
       "<circle clip-path=\"url(#clip842)\" cx=\"757.227\" cy=\"1043.3\" r=\"10.8\" fill=\"#ff0000\" fill-rule=\"evenodd\" fill-opacity=\"1\" stroke=\"#000000\" stroke-opacity=\"1\" stroke-width=\"2.4\"/>\n",
       "<circle clip-path=\"url(#clip842)\" cx=\"770.064\" cy=\"1043.3\" r=\"10.8\" fill=\"#ff0000\" fill-rule=\"evenodd\" fill-opacity=\"1\" stroke=\"#000000\" stroke-opacity=\"1\" stroke-width=\"2.4\"/>\n",
       "<circle clip-path=\"url(#clip842)\" cx=\"782.902\" cy=\"1043.3\" r=\"10.8\" fill=\"#ff0000\" fill-rule=\"evenodd\" fill-opacity=\"1\" stroke=\"#000000\" stroke-opacity=\"1\" stroke-width=\"2.4\"/>\n",
       "<circle clip-path=\"url(#clip842)\" cx=\"795.739\" cy=\"1043.3\" r=\"10.8\" fill=\"#ff0000\" fill-rule=\"evenodd\" fill-opacity=\"1\" stroke=\"#000000\" stroke-opacity=\"1\" stroke-width=\"2.4\"/>\n",
       "<circle clip-path=\"url(#clip842)\" cx=\"808.576\" cy=\"1043.3\" r=\"10.8\" fill=\"#ff0000\" fill-rule=\"evenodd\" fill-opacity=\"1\" stroke=\"#000000\" stroke-opacity=\"1\" stroke-width=\"2.4\"/>\n",
       "<circle clip-path=\"url(#clip842)\" cx=\"821.414\" cy=\"1043.3\" r=\"10.8\" fill=\"#ff0000\" fill-rule=\"evenodd\" fill-opacity=\"1\" stroke=\"#000000\" stroke-opacity=\"1\" stroke-width=\"2.4\"/>\n",
       "<circle clip-path=\"url(#clip842)\" cx=\"834.251\" cy=\"1043.3\" r=\"10.8\" fill=\"#ff0000\" fill-rule=\"evenodd\" fill-opacity=\"1\" stroke=\"#000000\" stroke-opacity=\"1\" stroke-width=\"2.4\"/>\n",
       "<circle clip-path=\"url(#clip842)\" cx=\"847.088\" cy=\"1043.3\" r=\"10.8\" fill=\"#ff0000\" fill-rule=\"evenodd\" fill-opacity=\"1\" stroke=\"#000000\" stroke-opacity=\"1\" stroke-width=\"2.4\"/>\n",
       "<circle clip-path=\"url(#clip842)\" cx=\"859.926\" cy=\"1043.3\" r=\"10.8\" fill=\"#ff0000\" fill-rule=\"evenodd\" fill-opacity=\"1\" stroke=\"#000000\" stroke-opacity=\"1\" stroke-width=\"2.4\"/>\n",
       "<circle clip-path=\"url(#clip842)\" cx=\"872.763\" cy=\"1043.3\" r=\"10.8\" fill=\"#ff0000\" fill-rule=\"evenodd\" fill-opacity=\"1\" stroke=\"#000000\" stroke-opacity=\"1\" stroke-width=\"2.4\"/>\n",
       "<circle clip-path=\"url(#clip842)\" cx=\"885.6\" cy=\"1043.3\" r=\"10.8\" fill=\"#ff0000\" fill-rule=\"evenodd\" fill-opacity=\"1\" stroke=\"#000000\" stroke-opacity=\"1\" stroke-width=\"2.4\"/>\n",
       "<circle clip-path=\"url(#clip842)\" cx=\"898.438\" cy=\"1043.3\" r=\"10.8\" fill=\"#ff0000\" fill-rule=\"evenodd\" fill-opacity=\"1\" stroke=\"#000000\" stroke-opacity=\"1\" stroke-width=\"2.4\"/>\n",
       "<circle clip-path=\"url(#clip842)\" cx=\"911.275\" cy=\"1043.3\" r=\"10.8\" fill=\"#ff0000\" fill-rule=\"evenodd\" fill-opacity=\"1\" stroke=\"#000000\" stroke-opacity=\"1\" stroke-width=\"2.4\"/>\n",
       "<circle clip-path=\"url(#clip842)\" cx=\"924.112\" cy=\"384.214\" r=\"10.8\" fill=\"#ff0000\" fill-rule=\"evenodd\" fill-opacity=\"1\" stroke=\"#000000\" stroke-opacity=\"1\" stroke-width=\"2.4\"/>\n",
       "<circle clip-path=\"url(#clip842)\" cx=\"936.95\" cy=\"1043.3\" r=\"10.8\" fill=\"#ff0000\" fill-rule=\"evenodd\" fill-opacity=\"1\" stroke=\"#000000\" stroke-opacity=\"1\" stroke-width=\"2.4\"/>\n",
       "<circle clip-path=\"url(#clip842)\" cx=\"949.787\" cy=\"392.829\" r=\"10.8\" fill=\"#ff0000\" fill-rule=\"evenodd\" fill-opacity=\"1\" stroke=\"#000000\" stroke-opacity=\"1\" stroke-width=\"2.4\"/>\n",
       "<circle clip-path=\"url(#clip842)\" cx=\"962.624\" cy=\"1043.3\" r=\"10.8\" fill=\"#ff0000\" fill-rule=\"evenodd\" fill-opacity=\"1\" stroke=\"#000000\" stroke-opacity=\"1\" stroke-width=\"2.4\"/>\n",
       "<circle clip-path=\"url(#clip842)\" cx=\"975.462\" cy=\"1043.3\" r=\"10.8\" fill=\"#ff0000\" fill-rule=\"evenodd\" fill-opacity=\"1\" stroke=\"#000000\" stroke-opacity=\"1\" stroke-width=\"2.4\"/>\n",
       "<circle clip-path=\"url(#clip842)\" cx=\"988.299\" cy=\"1043.3\" r=\"10.8\" fill=\"#ff0000\" fill-rule=\"evenodd\" fill-opacity=\"1\" stroke=\"#000000\" stroke-opacity=\"1\" stroke-width=\"2.4\"/>\n",
       "<circle clip-path=\"url(#clip842)\" cx=\"1001.14\" cy=\"1043.3\" r=\"10.8\" fill=\"#ff0000\" fill-rule=\"evenodd\" fill-opacity=\"1\" stroke=\"#000000\" stroke-opacity=\"1\" stroke-width=\"2.4\"/>\n",
       "<circle clip-path=\"url(#clip842)\" cx=\"1013.97\" cy=\"1043.3\" r=\"10.8\" fill=\"#ff0000\" fill-rule=\"evenodd\" fill-opacity=\"1\" stroke=\"#000000\" stroke-opacity=\"1\" stroke-width=\"2.4\"/>\n",
       "<circle clip-path=\"url(#clip842)\" cx=\"1026.81\" cy=\"1043.3\" r=\"10.8\" fill=\"#ff0000\" fill-rule=\"evenodd\" fill-opacity=\"1\" stroke=\"#000000\" stroke-opacity=\"1\" stroke-width=\"2.4\"/>\n",
       "<circle clip-path=\"url(#clip842)\" cx=\"1039.65\" cy=\"1043.3\" r=\"10.8\" fill=\"#ff0000\" fill-rule=\"evenodd\" fill-opacity=\"1\" stroke=\"#000000\" stroke-opacity=\"1\" stroke-width=\"2.4\"/>\n",
       "<circle clip-path=\"url(#clip842)\" cx=\"1052.49\" cy=\"1043.3\" r=\"10.8\" fill=\"#ff0000\" fill-rule=\"evenodd\" fill-opacity=\"1\" stroke=\"#000000\" stroke-opacity=\"1\" stroke-width=\"2.4\"/>\n",
       "<circle clip-path=\"url(#clip842)\" cx=\"1065.32\" cy=\"1043.3\" r=\"10.8\" fill=\"#ff0000\" fill-rule=\"evenodd\" fill-opacity=\"1\" stroke=\"#000000\" stroke-opacity=\"1\" stroke-width=\"2.4\"/>\n",
       "<circle clip-path=\"url(#clip842)\" cx=\"1078.16\" cy=\"1043.3\" r=\"10.8\" fill=\"#ff0000\" fill-rule=\"evenodd\" fill-opacity=\"1\" stroke=\"#000000\" stroke-opacity=\"1\" stroke-width=\"2.4\"/>\n",
       "<circle clip-path=\"url(#clip842)\" cx=\"1091\" cy=\"1043.3\" r=\"10.8\" fill=\"#ff0000\" fill-rule=\"evenodd\" fill-opacity=\"1\" stroke=\"#000000\" stroke-opacity=\"1\" stroke-width=\"2.4\"/>\n",
       "<circle clip-path=\"url(#clip842)\" cx=\"1103.83\" cy=\"1043.3\" r=\"10.8\" fill=\"#ff0000\" fill-rule=\"evenodd\" fill-opacity=\"1\" stroke=\"#000000\" stroke-opacity=\"1\" stroke-width=\"2.4\"/>\n",
       "<circle clip-path=\"url(#clip842)\" cx=\"1116.67\" cy=\"1043.3\" r=\"10.8\" fill=\"#ff0000\" fill-rule=\"evenodd\" fill-opacity=\"1\" stroke=\"#000000\" stroke-opacity=\"1\" stroke-width=\"2.4\"/>\n",
       "<circle clip-path=\"url(#clip842)\" cx=\"1129.51\" cy=\"1043.3\" r=\"10.8\" fill=\"#ff0000\" fill-rule=\"evenodd\" fill-opacity=\"1\" stroke=\"#000000\" stroke-opacity=\"1\" stroke-width=\"2.4\"/>\n",
       "<circle clip-path=\"url(#clip842)\" cx=\"1142.35\" cy=\"1043.3\" r=\"10.8\" fill=\"#ff0000\" fill-rule=\"evenodd\" fill-opacity=\"1\" stroke=\"#000000\" stroke-opacity=\"1\" stroke-width=\"2.4\"/>\n",
       "<circle clip-path=\"url(#clip842)\" cx=\"1155.18\" cy=\"1043.3\" r=\"10.8\" fill=\"#ff0000\" fill-rule=\"evenodd\" fill-opacity=\"1\" stroke=\"#000000\" stroke-opacity=\"1\" stroke-width=\"2.4\"/>\n",
       "<circle clip-path=\"url(#clip842)\" cx=\"1168.02\" cy=\"1043.3\" r=\"10.8\" fill=\"#ff0000\" fill-rule=\"evenodd\" fill-opacity=\"1\" stroke=\"#000000\" stroke-opacity=\"1\" stroke-width=\"2.4\"/>\n",
       "<circle clip-path=\"url(#clip842)\" cx=\"1180.86\" cy=\"1043.3\" r=\"10.8\" fill=\"#ff0000\" fill-rule=\"evenodd\" fill-opacity=\"1\" stroke=\"#000000\" stroke-opacity=\"1\" stroke-width=\"2.4\"/>\n",
       "<circle clip-path=\"url(#clip842)\" cx=\"1193.7\" cy=\"1043.3\" r=\"10.8\" fill=\"#ff0000\" fill-rule=\"evenodd\" fill-opacity=\"1\" stroke=\"#000000\" stroke-opacity=\"1\" stroke-width=\"2.4\"/>\n",
       "<circle clip-path=\"url(#clip842)\" cx=\"1206.53\" cy=\"1043.3\" r=\"10.8\" fill=\"#ff0000\" fill-rule=\"evenodd\" fill-opacity=\"1\" stroke=\"#000000\" stroke-opacity=\"1\" stroke-width=\"2.4\"/>\n",
       "<circle clip-path=\"url(#clip842)\" cx=\"1219.37\" cy=\"1043.3\" r=\"10.8\" fill=\"#ff0000\" fill-rule=\"evenodd\" fill-opacity=\"1\" stroke=\"#000000\" stroke-opacity=\"1\" stroke-width=\"2.4\"/>\n",
       "<circle clip-path=\"url(#clip842)\" cx=\"1232.21\" cy=\"1043.3\" r=\"10.8\" fill=\"#ff0000\" fill-rule=\"evenodd\" fill-opacity=\"1\" stroke=\"#000000\" stroke-opacity=\"1\" stroke-width=\"2.4\"/>\n",
       "<circle clip-path=\"url(#clip842)\" cx=\"1245.05\" cy=\"1043.3\" r=\"10.8\" fill=\"#ff0000\" fill-rule=\"evenodd\" fill-opacity=\"1\" stroke=\"#000000\" stroke-opacity=\"1\" stroke-width=\"2.4\"/>\n",
       "<circle clip-path=\"url(#clip842)\" cx=\"1257.88\" cy=\"1043.3\" r=\"10.8\" fill=\"#ff0000\" fill-rule=\"evenodd\" fill-opacity=\"1\" stroke=\"#000000\" stroke-opacity=\"1\" stroke-width=\"2.4\"/>\n",
       "<circle clip-path=\"url(#clip842)\" cx=\"1270.72\" cy=\"1043.3\" r=\"10.8\" fill=\"#ff0000\" fill-rule=\"evenodd\" fill-opacity=\"1\" stroke=\"#000000\" stroke-opacity=\"1\" stroke-width=\"2.4\"/>\n",
       "<circle clip-path=\"url(#clip842)\" cx=\"1283.56\" cy=\"1043.3\" r=\"10.8\" fill=\"#ff0000\" fill-rule=\"evenodd\" fill-opacity=\"1\" stroke=\"#000000\" stroke-opacity=\"1\" stroke-width=\"2.4\"/>\n",
       "<circle clip-path=\"url(#clip842)\" cx=\"1296.39\" cy=\"1043.3\" r=\"10.8\" fill=\"#ff0000\" fill-rule=\"evenodd\" fill-opacity=\"1\" stroke=\"#000000\" stroke-opacity=\"1\" stroke-width=\"2.4\"/>\n",
       "<circle clip-path=\"url(#clip842)\" cx=\"1309.23\" cy=\"1043.3\" r=\"10.8\" fill=\"#ff0000\" fill-rule=\"evenodd\" fill-opacity=\"1\" stroke=\"#000000\" stroke-opacity=\"1\" stroke-width=\"2.4\"/>\n",
       "<circle clip-path=\"url(#clip842)\" cx=\"1322.07\" cy=\"1043.3\" r=\"10.8\" fill=\"#ff0000\" fill-rule=\"evenodd\" fill-opacity=\"1\" stroke=\"#000000\" stroke-opacity=\"1\" stroke-width=\"2.4\"/>\n",
       "<circle clip-path=\"url(#clip842)\" cx=\"1334.91\" cy=\"1043.3\" r=\"10.8\" fill=\"#ff0000\" fill-rule=\"evenodd\" fill-opacity=\"1\" stroke=\"#000000\" stroke-opacity=\"1\" stroke-width=\"2.4\"/>\n",
       "<circle clip-path=\"url(#clip842)\" cx=\"1347.74\" cy=\"1043.3\" r=\"10.8\" fill=\"#ff0000\" fill-rule=\"evenodd\" fill-opacity=\"1\" stroke=\"#000000\" stroke-opacity=\"1\" stroke-width=\"2.4\"/>\n",
       "<circle clip-path=\"url(#clip842)\" cx=\"1360.58\" cy=\"1043.3\" r=\"10.8\" fill=\"#ff0000\" fill-rule=\"evenodd\" fill-opacity=\"1\" stroke=\"#000000\" stroke-opacity=\"1\" stroke-width=\"2.4\"/>\n",
       "<circle clip-path=\"url(#clip842)\" cx=\"1373.42\" cy=\"1043.3\" r=\"10.8\" fill=\"#ff0000\" fill-rule=\"evenodd\" fill-opacity=\"1\" stroke=\"#000000\" stroke-opacity=\"1\" stroke-width=\"2.4\"/>\n",
       "<circle clip-path=\"url(#clip842)\" cx=\"1386.26\" cy=\"1043.3\" r=\"10.8\" fill=\"#ff0000\" fill-rule=\"evenodd\" fill-opacity=\"1\" stroke=\"#000000\" stroke-opacity=\"1\" stroke-width=\"2.4\"/>\n",
       "<circle clip-path=\"url(#clip842)\" cx=\"1399.09\" cy=\"1043.3\" r=\"10.8\" fill=\"#ff0000\" fill-rule=\"evenodd\" fill-opacity=\"1\" stroke=\"#000000\" stroke-opacity=\"1\" stroke-width=\"2.4\"/>\n",
       "<circle clip-path=\"url(#clip842)\" cx=\"1411.93\" cy=\"1043.3\" r=\"10.8\" fill=\"#ff0000\" fill-rule=\"evenodd\" fill-opacity=\"1\" stroke=\"#000000\" stroke-opacity=\"1\" stroke-width=\"2.4\"/>\n",
       "<circle clip-path=\"url(#clip842)\" cx=\"1424.77\" cy=\"1043.3\" r=\"10.8\" fill=\"#ff0000\" fill-rule=\"evenodd\" fill-opacity=\"1\" stroke=\"#000000\" stroke-opacity=\"1\" stroke-width=\"2.4\"/>\n",
       "<circle clip-path=\"url(#clip842)\" cx=\"1437.61\" cy=\"1043.3\" r=\"10.8\" fill=\"#ff0000\" fill-rule=\"evenodd\" fill-opacity=\"1\" stroke=\"#000000\" stroke-opacity=\"1\" stroke-width=\"2.4\"/>\n",
       "<circle clip-path=\"url(#clip842)\" cx=\"1450.44\" cy=\"1043.3\" r=\"10.8\" fill=\"#ff0000\" fill-rule=\"evenodd\" fill-opacity=\"1\" stroke=\"#000000\" stroke-opacity=\"1\" stroke-width=\"2.4\"/>\n",
       "<circle clip-path=\"url(#clip842)\" cx=\"1463.28\" cy=\"1043.3\" r=\"10.8\" fill=\"#ff0000\" fill-rule=\"evenodd\" fill-opacity=\"1\" stroke=\"#000000\" stroke-opacity=\"1\" stroke-width=\"2.4\"/>\n",
       "<circle clip-path=\"url(#clip842)\" cx=\"1476.12\" cy=\"1043.3\" r=\"10.8\" fill=\"#ff0000\" fill-rule=\"evenodd\" fill-opacity=\"1\" stroke=\"#000000\" stroke-opacity=\"1\" stroke-width=\"2.4\"/>\n",
       "<circle clip-path=\"url(#clip842)\" cx=\"1488.95\" cy=\"1043.3\" r=\"10.8\" fill=\"#ff0000\" fill-rule=\"evenodd\" fill-opacity=\"1\" stroke=\"#000000\" stroke-opacity=\"1\" stroke-width=\"2.4\"/>\n",
       "<circle clip-path=\"url(#clip842)\" cx=\"1501.79\" cy=\"1043.3\" r=\"10.8\" fill=\"#ff0000\" fill-rule=\"evenodd\" fill-opacity=\"1\" stroke=\"#000000\" stroke-opacity=\"1\" stroke-width=\"2.4\"/>\n",
       "<circle clip-path=\"url(#clip842)\" cx=\"1514.63\" cy=\"1043.3\" r=\"10.8\" fill=\"#ff0000\" fill-rule=\"evenodd\" fill-opacity=\"1\" stroke=\"#000000\" stroke-opacity=\"1\" stroke-width=\"2.4\"/>\n",
       "<path clip-path=\"url(#clip840)\" d=\"M1320.71 185.093 L1507.85 185.093 L1507.85 81.4129 L1320.71 81.4129  Z\" fill=\"#ffffff\" fill-rule=\"evenodd\" fill-opacity=\"1\"/>\n",
       "<polyline clip-path=\"url(#clip840)\" style=\"stroke:#000000; stroke-linecap:round; stroke-linejoin:round; stroke-width:4; stroke-opacity:1; fill:none\" points=\"1320.71,185.093 1507.85,185.093 1507.85,81.4129 1320.71,81.4129 1320.71,185.093 \"/>\n",
       "<circle clip-path=\"url(#clip840)\" cx=\"1380.58\" cy=\"133.253\" r=\"19.7486\" fill=\"#ff0000\" fill-rule=\"evenodd\" fill-opacity=\"1\" stroke=\"#000000\" stroke-opacity=\"1\" stroke-width=\"4.38857\"/>\n",
       "<path clip-path=\"url(#clip840)\" d=\"M1454.29 152.94 Q1452.49 157.57 1450.78 158.982 Q1449.06 160.394 1446.19 160.394 L1442.79 160.394 L1442.79 156.829 L1445.29 156.829 Q1447.05 156.829 1448.02 155.996 Q1448.99 155.163 1450.17 152.061 L1450.94 150.116 L1440.45 124.607 L1444.97 124.607 L1453.07 144.885 L1461.17 124.607 L1465.68 124.607 L1454.29 152.94 Z\" fill=\"#000000\" fill-rule=\"nonzero\" fill-opacity=\"1\" /><path clip-path=\"url(#clip840)\" d=\"M1472.98 146.598 L1480.61 146.598 L1480.61 120.232 L1472.3 121.899 L1472.3 117.64 L1480.57 115.973 L1485.24 115.973 L1485.24 146.598 L1492.88 146.598 L1492.88 150.533 L1472.98 150.533 L1472.98 146.598 Z\" fill=\"#000000\" fill-rule=\"nonzero\" fill-opacity=\"1\" /></svg>\n"
      ],
      "text/html": [
       "<?xml version=\"1.0\" encoding=\"utf-8\"?>\n",
       "<svg xmlns=\"http://www.w3.org/2000/svg\" xmlns:xlink=\"http://www.w3.org/1999/xlink\" width=\"400\" height=\"300\" viewBox=\"0 0 1600 1200\">\n",
       "<defs>\n",
       "  <clipPath id=\"clip890\">\n",
       "    <rect x=\"0\" y=\"0\" width=\"1600\" height=\"1200\"/>\n",
       "  </clipPath>\n",
       "</defs>\n",
       "<path clip-path=\"url(#clip890)\" d=\"M0 1200 L1600 1200 L1600 0 L0 0  Z\" fill=\"#ffffff\" fill-rule=\"evenodd\" fill-opacity=\"1\"/>\n",
       "<defs>\n",
       "  <clipPath id=\"clip891\">\n",
       "    <rect x=\"320\" y=\"0\" width=\"1121\" height=\"1121\"/>\n",
       "  </clipPath>\n",
       "</defs>\n",
       "<path clip-path=\"url(#clip890)\" d=\"M205.607 1072.31 L1552.76 1072.31 L1552.76 47.2441 L205.607 47.2441  Z\" fill=\"#ffffff\" fill-rule=\"evenodd\" fill-opacity=\"1\"/>\n",
       "<defs>\n",
       "  <clipPath id=\"clip892\">\n",
       "    <rect x=\"205\" y=\"47\" width=\"1348\" height=\"1026\"/>\n",
       "  </clipPath>\n",
       "</defs>\n",
       "<polyline clip-path=\"url(#clip892)\" style=\"stroke:#000000; stroke-linecap:round; stroke-linejoin:round; stroke-width:2; stroke-opacity:0.1; fill:none\" points=\"249.17,1072.31 249.17,47.2441 \"/>\n",
       "<polyline clip-path=\"url(#clip892)\" style=\"stroke:#000000; stroke-linecap:round; stroke-linejoin:round; stroke-width:2; stroke-opacity:0.1; fill:none\" points=\"776.898,1072.31 776.898,47.2441 \"/>\n",
       "<polyline clip-path=\"url(#clip892)\" style=\"stroke:#000000; stroke-linecap:round; stroke-linejoin:round; stroke-width:2; stroke-opacity:0.1; fill:none\" points=\"1304.63,1072.31 1304.63,47.2441 \"/>\n",
       "<polyline clip-path=\"url(#clip890)\" style=\"stroke:#000000; stroke-linecap:round; stroke-linejoin:round; stroke-width:4; stroke-opacity:1; fill:none\" points=\"205.607,1072.31 1552.76,1072.31 \"/>\n",
       "<polyline clip-path=\"url(#clip890)\" style=\"stroke:#000000; stroke-linecap:round; stroke-linejoin:round; stroke-width:4; stroke-opacity:1; fill:none\" points=\"249.17,1072.31 249.17,1053.41 \"/>\n",
       "<polyline clip-path=\"url(#clip890)\" style=\"stroke:#000000; stroke-linecap:round; stroke-linejoin:round; stroke-width:4; stroke-opacity:1; fill:none\" points=\"776.898,1072.31 776.898,1053.41 \"/>\n",
       "<polyline clip-path=\"url(#clip890)\" style=\"stroke:#000000; stroke-linecap:round; stroke-linejoin:round; stroke-width:4; stroke-opacity:1; fill:none\" points=\"1304.63,1072.31 1304.63,1053.41 \"/>\n",
       "<path clip-path=\"url(#clip890)\" d=\"M186.938 1140.03 L194.577 1140.03 L194.577 1113.67 L186.267 1115.34 L186.267 1111.08 L194.53 1109.41 L199.206 1109.41 L199.206 1140.03 L206.845 1140.03 L206.845 1143.97 L186.938 1143.97 L186.938 1140.03 Z\" fill=\"#000000\" fill-rule=\"nonzero\" fill-opacity=\"1\" /><path clip-path=\"url(#clip890)\" d=\"M226.29 1112.49 Q222.678 1112.49 220.85 1116.05 Q219.044 1119.59 219.044 1126.72 Q219.044 1133.83 220.85 1137.4 Q222.678 1140.94 226.29 1140.94 Q229.924 1140.94 231.729 1137.4 Q233.558 1133.83 233.558 1126.72 Q233.558 1119.59 231.729 1116.05 Q229.924 1112.49 226.29 1112.49 M226.29 1108.78 Q232.1 1108.78 235.155 1113.39 Q238.234 1117.97 238.234 1126.72 Q238.234 1135.45 235.155 1140.06 Q232.1 1144.64 226.29 1144.64 Q220.479 1144.64 217.401 1140.06 Q214.345 1135.45 214.345 1126.72 Q214.345 1117.97 217.401 1113.39 Q220.479 1108.78 226.29 1108.78 Z\" fill=\"#000000\" fill-rule=\"nonzero\" fill-opacity=\"1\" /><path clip-path=\"url(#clip890)\" d=\"M238.234 1102.89 L262.345 1102.89 L262.345 1106.08 L238.234 1106.08 L238.234 1102.89 Z\" fill=\"#000000\" fill-rule=\"nonzero\" fill-opacity=\"1\" /><path clip-path=\"url(#clip890)\" d=\"M271.204 1113.36 L277.41 1113.36 L277.41 1091.94 L270.658 1093.29 L270.658 1089.83 L277.373 1088.48 L281.172 1088.48 L281.172 1113.36 L287.379 1113.36 L287.379 1116.56 L271.204 1116.56 L271.204 1113.36 Z\" fill=\"#000000\" fill-rule=\"nonzero\" fill-opacity=\"1\" /><path clip-path=\"url(#clip890)\" d=\"M295.09 1088.48 L310.004 1088.48 L310.004 1091.68 L298.569 1091.68 L298.569 1098.56 Q299.397 1098.28 300.224 1098.15 Q301.052 1098 301.879 1098 Q306.581 1098 309.327 1100.57 Q312.073 1103.15 312.073 1107.55 Q312.073 1112.08 309.252 1114.6 Q306.431 1117.1 301.296 1117.1 Q299.528 1117.1 297.685 1116.8 Q295.861 1116.5 293.905 1115.9 L293.905 1112.08 Q295.598 1113 297.403 1113.46 Q299.209 1113.91 301.221 1113.91 Q304.475 1113.91 306.374 1112.2 Q308.274 1110.48 308.274 1107.55 Q308.274 1104.62 306.374 1102.9 Q304.475 1101.19 301.221 1101.19 Q299.698 1101.19 298.174 1101.53 Q296.67 1101.87 295.09 1102.58 L295.09 1088.48 Z\" fill=\"#000000\" fill-rule=\"nonzero\" fill-opacity=\"1\" /><path clip-path=\"url(#clip890)\" d=\"M714.261 1140.03 L721.9 1140.03 L721.9 1113.67 L713.59 1115.34 L713.59 1111.08 L721.854 1109.41 L726.53 1109.41 L726.53 1140.03 L734.168 1140.03 L734.168 1143.97 L714.261 1143.97 L714.261 1140.03 Z\" fill=\"#000000\" fill-rule=\"nonzero\" fill-opacity=\"1\" /><path clip-path=\"url(#clip890)\" d=\"M753.613 1112.49 Q750.002 1112.49 748.173 1116.05 Q746.367 1119.59 746.367 1126.72 Q746.367 1133.83 748.173 1137.4 Q750.002 1140.94 753.613 1140.94 Q757.247 1140.94 759.053 1137.4 Q760.881 1133.83 760.881 1126.72 Q760.881 1119.59 759.053 1116.05 Q757.247 1112.49 753.613 1112.49 M753.613 1108.78 Q759.423 1108.78 762.478 1113.39 Q765.557 1117.97 765.557 1126.72 Q765.557 1135.45 762.478 1140.06 Q759.423 1144.64 753.613 1144.64 Q747.803 1144.64 744.724 1140.06 Q741.668 1135.45 741.668 1126.72 Q741.668 1117.97 744.724 1113.39 Q747.803 1108.78 753.613 1108.78 Z\" fill=\"#000000\" fill-rule=\"nonzero\" fill-opacity=\"1\" /><path clip-path=\"url(#clip890)\" d=\"M765.557 1102.89 L789.669 1102.89 L789.669 1106.08 L765.557 1106.08 L765.557 1102.89 Z\" fill=\"#000000\" fill-rule=\"nonzero\" fill-opacity=\"1\" /><path clip-path=\"url(#clip890)\" d=\"M798.527 1113.36 L804.734 1113.36 L804.734 1091.94 L797.982 1093.29 L797.982 1089.83 L804.696 1088.48 L808.495 1088.48 L808.495 1113.36 L814.702 1113.36 L814.702 1116.56 L798.527 1116.56 L798.527 1113.36 Z\" fill=\"#000000\" fill-rule=\"nonzero\" fill-opacity=\"1\" /><path clip-path=\"url(#clip890)\" d=\"M830.5 1090.98 Q827.566 1090.98 826.081 1093.88 Q824.614 1096.75 824.614 1102.55 Q824.614 1108.32 826.081 1111.22 Q827.566 1114.1 830.5 1114.1 Q833.453 1114.1 834.92 1111.22 Q836.406 1108.32 836.406 1102.55 Q836.406 1096.75 834.92 1093.88 Q833.453 1090.98 830.5 1090.98 M830.5 1087.97 Q835.221 1087.97 837.704 1091.71 Q840.205 1095.44 840.205 1102.55 Q840.205 1109.64 837.704 1113.38 Q835.221 1117.1 830.5 1117.1 Q825.78 1117.1 823.278 1113.38 Q820.796 1109.64 820.796 1102.55 Q820.796 1095.44 823.278 1091.71 Q825.78 1087.97 830.5 1087.97 Z\" fill=\"#000000\" fill-rule=\"nonzero\" fill-opacity=\"1\" /><path clip-path=\"url(#clip890)\" d=\"M1254.65 1140.03 L1262.29 1140.03 L1262.29 1113.67 L1253.98 1115.34 L1253.98 1111.08 L1262.24 1109.41 L1266.91 1109.41 L1266.91 1140.03 L1274.55 1140.03 L1274.55 1143.97 L1254.65 1143.97 L1254.65 1140.03 Z\" fill=\"#000000\" fill-rule=\"nonzero\" fill-opacity=\"1\" /><path clip-path=\"url(#clip890)\" d=\"M1294 1112.49 Q1290.39 1112.49 1288.56 1116.05 Q1286.75 1119.59 1286.75 1126.72 Q1286.75 1133.83 1288.56 1137.4 Q1290.39 1140.94 1294 1140.94 Q1297.63 1140.94 1299.44 1137.4 Q1301.27 1133.83 1301.27 1126.72 Q1301.27 1119.59 1299.44 1116.05 Q1297.63 1112.49 1294 1112.49 M1294 1108.78 Q1299.81 1108.78 1302.86 1113.39 Q1305.94 1117.97 1305.94 1126.72 Q1305.94 1135.45 1302.86 1140.06 Q1299.81 1144.64 1294 1144.64 Q1288.19 1144.64 1285.11 1140.06 Q1282.05 1135.45 1282.05 1126.72 Q1282.05 1117.97 1285.11 1113.39 Q1288.19 1108.78 1294 1108.78 Z\" fill=\"#000000\" fill-rule=\"nonzero\" fill-opacity=\"1\" /><path clip-path=\"url(#clip890)\" d=\"M1305.94 1102.89 L1330.05 1102.89 L1330.05 1106.08 L1305.94 1106.08 L1305.94 1102.89 Z\" fill=\"#000000\" fill-rule=\"nonzero\" fill-opacity=\"1\" /><path clip-path=\"url(#clip890)\" d=\"M1338.29 1088.48 L1353.21 1088.48 L1353.21 1091.68 L1341.77 1091.68 L1341.77 1098.56 Q1342.6 1098.28 1343.43 1098.15 Q1344.25 1098 1345.08 1098 Q1349.78 1098 1352.53 1100.57 Q1355.28 1103.15 1355.28 1107.55 Q1355.28 1112.08 1352.45 1114.6 Q1349.63 1117.1 1344.5 1117.1 Q1342.73 1117.1 1340.89 1116.8 Q1339.06 1116.5 1337.11 1115.9 L1337.11 1112.08 Q1338.8 1113 1340.61 1113.46 Q1342.41 1113.91 1344.42 1113.91 Q1347.68 1113.91 1349.58 1112.2 Q1351.48 1110.48 1351.48 1107.55 Q1351.48 1104.62 1349.58 1102.9 Q1347.68 1101.19 1344.42 1101.19 Q1342.9 1101.19 1341.38 1101.53 Q1339.87 1101.87 1338.29 1102.58 L1338.29 1088.48 Z\" fill=\"#000000\" fill-rule=\"nonzero\" fill-opacity=\"1\" /><polyline clip-path=\"url(#clip892)\" style=\"stroke:#000000; stroke-linecap:round; stroke-linejoin:round; stroke-width:2; stroke-opacity:0.1; fill:none\" points=\"205.607,1043.3 1552.76,1043.3 \"/>\n",
       "<polyline clip-path=\"url(#clip892)\" style=\"stroke:#000000; stroke-linecap:round; stroke-linejoin:round; stroke-width:2; stroke-opacity:0.1; fill:none\" points=\"205.607,498.036 1552.76,498.036 \"/>\n",
       "<polyline clip-path=\"url(#clip890)\" style=\"stroke:#000000; stroke-linecap:round; stroke-linejoin:round; stroke-width:4; stroke-opacity:1; fill:none\" points=\"205.607,1072.31 205.607,47.2441 \"/>\n",
       "<polyline clip-path=\"url(#clip890)\" style=\"stroke:#000000; stroke-linecap:round; stroke-linejoin:round; stroke-width:4; stroke-opacity:1; fill:none\" points=\"205.607,1043.3 224.505,1043.3 \"/>\n",
       "<polyline clip-path=\"url(#clip890)\" style=\"stroke:#000000; stroke-linecap:round; stroke-linejoin:round; stroke-width:4; stroke-opacity:1; fill:none\" points=\"205.607,498.036 224.505,498.036 \"/>\n",
       "<path clip-path=\"url(#clip890)\" d=\"M55.6634 1063.09 L63.3023 1063.09 L63.3023 1036.72 L54.9921 1038.39 L54.9921 1034.13 L63.256 1032.47 L67.9319 1032.47 L67.9319 1063.09 L75.5707 1063.09 L75.5707 1067.03 L55.6634 1067.03 L55.6634 1063.09 Z\" fill=\"#000000\" fill-rule=\"nonzero\" fill-opacity=\"1\" /><path clip-path=\"url(#clip890)\" d=\"M95.0151 1035.54 Q91.404 1035.54 89.5753 1039.11 Q87.7697 1042.65 87.7697 1049.78 Q87.7697 1056.89 89.5753 1060.45 Q91.404 1063.99 95.0151 1063.99 Q98.6493 1063.99 100.455 1060.45 Q102.284 1056.89 102.284 1049.78 Q102.284 1042.65 100.455 1039.11 Q98.6493 1035.54 95.0151 1035.54 M95.0151 1031.84 Q100.825 1031.84 103.881 1036.45 Q106.959 1041.03 106.959 1049.78 Q106.959 1058.51 103.881 1063.11 Q100.825 1067.7 95.0151 1067.7 Q89.2049 1067.7 86.1262 1063.11 Q83.0707 1058.51 83.0707 1049.78 Q83.0707 1041.03 86.1262 1036.45 Q89.2049 1031.84 95.0151 1031.84 Z\" fill=\"#000000\" fill-rule=\"nonzero\" fill-opacity=\"1\" /><path clip-path=\"url(#clip890)\" d=\"M106.959 1025.94 L131.071 1025.94 L131.071 1029.14 L106.959 1029.14 L106.959 1025.94 Z\" fill=\"#000000\" fill-rule=\"nonzero\" fill-opacity=\"1\" /><path clip-path=\"url(#clip890)\" d=\"M142.544 1036.42 L155.803 1036.42 L155.803 1039.62 L137.973 1039.62 L137.973 1036.42 Q140.136 1034.18 143.86 1030.42 Q147.603 1026.64 148.562 1025.55 Q150.387 1023.5 151.101 1022.09 Q151.835 1020.66 151.835 1019.28 Q151.835 1017.05 150.255 1015.64 Q148.694 1014.22 146.174 1014.22 Q144.387 1014.22 142.393 1014.85 Q140.418 1015.47 138.162 1016.73 L138.162 1012.89 Q140.456 1011.97 142.45 1011.5 Q144.443 1011.03 146.098 1011.03 Q150.462 1011.03 153.057 1013.21 Q155.653 1015.39 155.653 1019.04 Q155.653 1020.77 154.994 1022.33 Q154.355 1023.87 152.644 1025.98 Q152.173 1026.52 149.653 1029.14 Q147.133 1031.73 142.544 1036.42 Z\" fill=\"#000000\" fill-rule=\"nonzero\" fill-opacity=\"1\" /><path clip-path=\"url(#clip890)\" d=\"M171.903 1014.04 Q168.969 1014.04 167.483 1016.93 Q166.016 1019.81 166.016 1025.6 Q166.016 1031.38 167.483 1034.27 Q168.969 1037.15 171.903 1037.15 Q174.855 1037.15 176.322 1034.27 Q177.808 1031.38 177.808 1025.6 Q177.808 1019.81 176.322 1016.93 Q174.855 1014.04 171.903 1014.04 M171.903 1011.03 Q176.623 1011.03 179.106 1014.77 Q181.607 1018.49 181.607 1025.6 Q181.607 1032.69 179.106 1036.44 Q176.623 1040.16 171.903 1040.16 Q167.182 1040.16 164.68 1036.44 Q162.198 1032.69 162.198 1025.6 Q162.198 1018.49 164.68 1014.77 Q167.182 1011.03 171.903 1011.03 Z\" fill=\"#000000\" fill-rule=\"nonzero\" fill-opacity=\"1\" /><path clip-path=\"url(#clip890)\" d=\"M55.6634 517.829 L63.3023 517.829 L63.3023 491.463 L54.9921 493.13 L54.9921 488.871 L63.256 487.204 L67.9319 487.204 L67.9319 517.829 L75.5707 517.829 L75.5707 521.764 L55.6634 521.764 L55.6634 517.829 Z\" fill=\"#000000\" fill-rule=\"nonzero\" fill-opacity=\"1\" /><path clip-path=\"url(#clip890)\" d=\"M95.0151 490.283 Q91.404 490.283 89.5753 493.848 Q87.7697 497.389 87.7697 504.519 Q87.7697 511.625 89.5753 515.19 Q91.404 518.732 95.0151 518.732 Q98.6493 518.732 100.455 515.19 Q102.284 511.625 102.284 504.519 Q102.284 497.389 100.455 493.848 Q98.6493 490.283 95.0151 490.283 M95.0151 486.579 Q100.825 486.579 103.881 491.186 Q106.959 495.769 106.959 504.519 Q106.959 513.246 103.881 517.852 Q100.825 522.435 95.0151 522.435 Q89.2049 522.435 86.1262 517.852 Q83.0707 513.246 83.0707 504.519 Q83.0707 495.769 86.1262 491.186 Q89.2049 486.579 95.0151 486.579 Z\" fill=\"#000000\" fill-rule=\"nonzero\" fill-opacity=\"1\" /><path clip-path=\"url(#clip890)\" d=\"M106.959 480.68 L131.071 480.68 L131.071 483.878 L106.959 483.878 L106.959 480.68 Z\" fill=\"#000000\" fill-rule=\"nonzero\" fill-opacity=\"1\" /><path clip-path=\"url(#clip890)\" d=\"M139.929 491.156 L146.136 491.156 L146.136 469.734 L139.384 471.088 L139.384 467.628 L146.098 466.274 L149.898 466.274 L149.898 491.156 L156.104 491.156 L156.104 494.354 L139.929 494.354 L139.929 491.156 Z\" fill=\"#000000\" fill-rule=\"nonzero\" fill-opacity=\"1\" /><path clip-path=\"url(#clip890)\" d=\"M171.903 468.775 Q168.969 468.775 167.483 471.671 Q166.016 474.549 166.016 480.342 Q166.016 486.116 167.483 489.012 Q168.969 491.89 171.903 491.89 Q174.855 491.89 176.322 489.012 Q177.808 486.116 177.808 480.342 Q177.808 474.549 176.322 471.671 Q174.855 468.775 171.903 468.775 M171.903 465.766 Q176.623 465.766 179.106 469.509 Q181.607 473.233 181.607 480.342 Q181.607 487.432 179.106 491.175 Q176.623 494.899 171.903 494.899 Q167.182 494.899 164.68 491.175 Q162.198 487.432 162.198 480.342 Q162.198 473.233 164.68 469.509 Q167.182 465.766 171.903 465.766 Z\" fill=\"#000000\" fill-rule=\"nonzero\" fill-opacity=\"1\" /><circle clip-path=\"url(#clip892)\" cx=\"243.734\" cy=\"1043.3\" r=\"10.8\" fill=\"#ff0000\" fill-rule=\"evenodd\" fill-opacity=\"1\" stroke=\"#000000\" stroke-opacity=\"1\" stroke-width=\"2.4\"/>\n",
       "<circle clip-path=\"url(#clip892)\" cx=\"256.572\" cy=\"1043.3\" r=\"10.8\" fill=\"#ff0000\" fill-rule=\"evenodd\" fill-opacity=\"1\" stroke=\"#000000\" stroke-opacity=\"1\" stroke-width=\"2.4\"/>\n",
       "<circle clip-path=\"url(#clip892)\" cx=\"269.409\" cy=\"1043.3\" r=\"10.8\" fill=\"#ff0000\" fill-rule=\"evenodd\" fill-opacity=\"1\" stroke=\"#000000\" stroke-opacity=\"1\" stroke-width=\"2.4\"/>\n",
       "<circle clip-path=\"url(#clip892)\" cx=\"282.246\" cy=\"1043.3\" r=\"10.8\" fill=\"#ff0000\" fill-rule=\"evenodd\" fill-opacity=\"1\" stroke=\"#000000\" stroke-opacity=\"1\" stroke-width=\"2.4\"/>\n",
       "<circle clip-path=\"url(#clip892)\" cx=\"295.084\" cy=\"1043.3\" r=\"10.8\" fill=\"#ff0000\" fill-rule=\"evenodd\" fill-opacity=\"1\" stroke=\"#000000\" stroke-opacity=\"1\" stroke-width=\"2.4\"/>\n",
       "<circle clip-path=\"url(#clip892)\" cx=\"307.921\" cy=\"1043.3\" r=\"10.8\" fill=\"#ff0000\" fill-rule=\"evenodd\" fill-opacity=\"1\" stroke=\"#000000\" stroke-opacity=\"1\" stroke-width=\"2.4\"/>\n",
       "<circle clip-path=\"url(#clip892)\" cx=\"320.758\" cy=\"1043.3\" r=\"10.8\" fill=\"#ff0000\" fill-rule=\"evenodd\" fill-opacity=\"1\" stroke=\"#000000\" stroke-opacity=\"1\" stroke-width=\"2.4\"/>\n",
       "<circle clip-path=\"url(#clip892)\" cx=\"333.596\" cy=\"1043.3\" r=\"10.8\" fill=\"#ff0000\" fill-rule=\"evenodd\" fill-opacity=\"1\" stroke=\"#000000\" stroke-opacity=\"1\" stroke-width=\"2.4\"/>\n",
       "<circle clip-path=\"url(#clip892)\" cx=\"346.433\" cy=\"76.2554\" r=\"10.8\" fill=\"#ff0000\" fill-rule=\"evenodd\" fill-opacity=\"1\" stroke=\"#000000\" stroke-opacity=\"1\" stroke-width=\"2.4\"/>\n",
       "<circle clip-path=\"url(#clip892)\" cx=\"359.27\" cy=\"93.6948\" r=\"10.8\" fill=\"#ff0000\" fill-rule=\"evenodd\" fill-opacity=\"1\" stroke=\"#000000\" stroke-opacity=\"1\" stroke-width=\"2.4\"/>\n",
       "<circle clip-path=\"url(#clip892)\" cx=\"372.108\" cy=\"108.645\" r=\"10.8\" fill=\"#ff0000\" fill-rule=\"evenodd\" fill-opacity=\"1\" stroke=\"#000000\" stroke-opacity=\"1\" stroke-width=\"2.4\"/>\n",
       "<circle clip-path=\"url(#clip892)\" cx=\"384.945\" cy=\"1043.3\" r=\"10.8\" fill=\"#ff0000\" fill-rule=\"evenodd\" fill-opacity=\"1\" stroke=\"#000000\" stroke-opacity=\"1\" stroke-width=\"2.4\"/>\n",
       "<circle clip-path=\"url(#clip892)\" cx=\"397.782\" cy=\"1043.3\" r=\"10.8\" fill=\"#ff0000\" fill-rule=\"evenodd\" fill-opacity=\"1\" stroke=\"#000000\" stroke-opacity=\"1\" stroke-width=\"2.4\"/>\n",
       "<circle clip-path=\"url(#clip892)\" cx=\"410.619\" cy=\"1043.3\" r=\"10.8\" fill=\"#ff0000\" fill-rule=\"evenodd\" fill-opacity=\"1\" stroke=\"#000000\" stroke-opacity=\"1\" stroke-width=\"2.4\"/>\n",
       "<circle clip-path=\"url(#clip892)\" cx=\"423.457\" cy=\"129.634\" r=\"10.8\" fill=\"#ff0000\" fill-rule=\"evenodd\" fill-opacity=\"1\" stroke=\"#000000\" stroke-opacity=\"1\" stroke-width=\"2.4\"/>\n",
       "<circle clip-path=\"url(#clip892)\" cx=\"436.294\" cy=\"1043.3\" r=\"10.8\" fill=\"#ff0000\" fill-rule=\"evenodd\" fill-opacity=\"1\" stroke=\"#000000\" stroke-opacity=\"1\" stroke-width=\"2.4\"/>\n",
       "<circle clip-path=\"url(#clip892)\" cx=\"449.131\" cy=\"1043.3\" r=\"10.8\" fill=\"#ff0000\" fill-rule=\"evenodd\" fill-opacity=\"1\" stroke=\"#000000\" stroke-opacity=\"1\" stroke-width=\"2.4\"/>\n",
       "<circle clip-path=\"url(#clip892)\" cx=\"461.969\" cy=\"1043.3\" r=\"10.8\" fill=\"#ff0000\" fill-rule=\"evenodd\" fill-opacity=\"1\" stroke=\"#000000\" stroke-opacity=\"1\" stroke-width=\"2.4\"/>\n",
       "<circle clip-path=\"url(#clip892)\" cx=\"474.806\" cy=\"1043.3\" r=\"10.8\" fill=\"#ff0000\" fill-rule=\"evenodd\" fill-opacity=\"1\" stroke=\"#000000\" stroke-opacity=\"1\" stroke-width=\"2.4\"/>\n",
       "<circle clip-path=\"url(#clip892)\" cx=\"487.643\" cy=\"1043.3\" r=\"10.8\" fill=\"#ff0000\" fill-rule=\"evenodd\" fill-opacity=\"1\" stroke=\"#000000\" stroke-opacity=\"1\" stroke-width=\"2.4\"/>\n",
       "<circle clip-path=\"url(#clip892)\" cx=\"500.481\" cy=\"1043.3\" r=\"10.8\" fill=\"#ff0000\" fill-rule=\"evenodd\" fill-opacity=\"1\" stroke=\"#000000\" stroke-opacity=\"1\" stroke-width=\"2.4\"/>\n",
       "<circle clip-path=\"url(#clip892)\" cx=\"513.318\" cy=\"1043.3\" r=\"10.8\" fill=\"#ff0000\" fill-rule=\"evenodd\" fill-opacity=\"1\" stroke=\"#000000\" stroke-opacity=\"1\" stroke-width=\"2.4\"/>\n",
       "<circle clip-path=\"url(#clip892)\" cx=\"526.155\" cy=\"1043.3\" r=\"10.8\" fill=\"#ff0000\" fill-rule=\"evenodd\" fill-opacity=\"1\" stroke=\"#000000\" stroke-opacity=\"1\" stroke-width=\"2.4\"/>\n",
       "<circle clip-path=\"url(#clip892)\" cx=\"538.993\" cy=\"1043.3\" r=\"10.8\" fill=\"#ff0000\" fill-rule=\"evenodd\" fill-opacity=\"1\" stroke=\"#000000\" stroke-opacity=\"1\" stroke-width=\"2.4\"/>\n",
       "<circle clip-path=\"url(#clip892)\" cx=\"551.83\" cy=\"1043.3\" r=\"10.8\" fill=\"#ff0000\" fill-rule=\"evenodd\" fill-opacity=\"1\" stroke=\"#000000\" stroke-opacity=\"1\" stroke-width=\"2.4\"/>\n",
       "<circle clip-path=\"url(#clip892)\" cx=\"564.667\" cy=\"1043.3\" r=\"10.8\" fill=\"#ff0000\" fill-rule=\"evenodd\" fill-opacity=\"1\" stroke=\"#000000\" stroke-opacity=\"1\" stroke-width=\"2.4\"/>\n",
       "<circle clip-path=\"url(#clip892)\" cx=\"577.505\" cy=\"1043.3\" r=\"10.8\" fill=\"#ff0000\" fill-rule=\"evenodd\" fill-opacity=\"1\" stroke=\"#000000\" stroke-opacity=\"1\" stroke-width=\"2.4\"/>\n",
       "<circle clip-path=\"url(#clip892)\" cx=\"590.342\" cy=\"211.395\" r=\"10.8\" fill=\"#ff0000\" fill-rule=\"evenodd\" fill-opacity=\"1\" stroke=\"#000000\" stroke-opacity=\"1\" stroke-width=\"2.4\"/>\n",
       "<circle clip-path=\"url(#clip892)\" cx=\"603.179\" cy=\"220.723\" r=\"10.8\" fill=\"#ff0000\" fill-rule=\"evenodd\" fill-opacity=\"1\" stroke=\"#000000\" stroke-opacity=\"1\" stroke-width=\"2.4\"/>\n",
       "<circle clip-path=\"url(#clip892)\" cx=\"616.017\" cy=\"1043.3\" r=\"10.8\" fill=\"#ff0000\" fill-rule=\"evenodd\" fill-opacity=\"1\" stroke=\"#000000\" stroke-opacity=\"1\" stroke-width=\"2.4\"/>\n",
       "<circle clip-path=\"url(#clip892)\" cx=\"628.854\" cy=\"1043.3\" r=\"10.8\" fill=\"#ff0000\" fill-rule=\"evenodd\" fill-opacity=\"1\" stroke=\"#000000\" stroke-opacity=\"1\" stroke-width=\"2.4\"/>\n",
       "<circle clip-path=\"url(#clip892)\" cx=\"641.691\" cy=\"230.193\" r=\"10.8\" fill=\"#ff0000\" fill-rule=\"evenodd\" fill-opacity=\"1\" stroke=\"#000000\" stroke-opacity=\"1\" stroke-width=\"2.4\"/>\n",
       "<circle clip-path=\"url(#clip892)\" cx=\"654.529\" cy=\"1043.3\" r=\"10.8\" fill=\"#ff0000\" fill-rule=\"evenodd\" fill-opacity=\"1\" stroke=\"#000000\" stroke-opacity=\"1\" stroke-width=\"2.4\"/>\n",
       "<circle clip-path=\"url(#clip892)\" cx=\"667.366\" cy=\"1043.3\" r=\"10.8\" fill=\"#ff0000\" fill-rule=\"evenodd\" fill-opacity=\"1\" stroke=\"#000000\" stroke-opacity=\"1\" stroke-width=\"2.4\"/>\n",
       "<circle clip-path=\"url(#clip892)\" cx=\"680.203\" cy=\"1043.3\" r=\"10.8\" fill=\"#ff0000\" fill-rule=\"evenodd\" fill-opacity=\"1\" stroke=\"#000000\" stroke-opacity=\"1\" stroke-width=\"2.4\"/>\n",
       "<circle clip-path=\"url(#clip892)\" cx=\"693.041\" cy=\"1043.3\" r=\"10.8\" fill=\"#ff0000\" fill-rule=\"evenodd\" fill-opacity=\"1\" stroke=\"#000000\" stroke-opacity=\"1\" stroke-width=\"2.4\"/>\n",
       "<circle clip-path=\"url(#clip892)\" cx=\"705.878\" cy=\"1043.3\" r=\"10.8\" fill=\"#ff0000\" fill-rule=\"evenodd\" fill-opacity=\"1\" stroke=\"#000000\" stroke-opacity=\"1\" stroke-width=\"2.4\"/>\n",
       "<circle clip-path=\"url(#clip892)\" cx=\"718.715\" cy=\"1043.3\" r=\"10.8\" fill=\"#ff0000\" fill-rule=\"evenodd\" fill-opacity=\"1\" stroke=\"#000000\" stroke-opacity=\"1\" stroke-width=\"2.4\"/>\n",
       "<circle clip-path=\"url(#clip892)\" cx=\"731.553\" cy=\"1043.3\" r=\"10.8\" fill=\"#ff0000\" fill-rule=\"evenodd\" fill-opacity=\"1\" stroke=\"#000000\" stroke-opacity=\"1\" stroke-width=\"2.4\"/>\n",
       "<circle clip-path=\"url(#clip892)\" cx=\"744.39\" cy=\"1043.3\" r=\"10.8\" fill=\"#ff0000\" fill-rule=\"evenodd\" fill-opacity=\"1\" stroke=\"#000000\" stroke-opacity=\"1\" stroke-width=\"2.4\"/>\n",
       "<circle clip-path=\"url(#clip892)\" cx=\"757.227\" cy=\"1043.3\" r=\"10.8\" fill=\"#ff0000\" fill-rule=\"evenodd\" fill-opacity=\"1\" stroke=\"#000000\" stroke-opacity=\"1\" stroke-width=\"2.4\"/>\n",
       "<circle clip-path=\"url(#clip892)\" cx=\"770.064\" cy=\"1043.3\" r=\"10.8\" fill=\"#ff0000\" fill-rule=\"evenodd\" fill-opacity=\"1\" stroke=\"#000000\" stroke-opacity=\"1\" stroke-width=\"2.4\"/>\n",
       "<circle clip-path=\"url(#clip892)\" cx=\"782.902\" cy=\"1043.3\" r=\"10.8\" fill=\"#ff0000\" fill-rule=\"evenodd\" fill-opacity=\"1\" stroke=\"#000000\" stroke-opacity=\"1\" stroke-width=\"2.4\"/>\n",
       "<circle clip-path=\"url(#clip892)\" cx=\"795.739\" cy=\"1043.3\" r=\"10.8\" fill=\"#ff0000\" fill-rule=\"evenodd\" fill-opacity=\"1\" stroke=\"#000000\" stroke-opacity=\"1\" stroke-width=\"2.4\"/>\n",
       "<circle clip-path=\"url(#clip892)\" cx=\"808.576\" cy=\"1043.3\" r=\"10.8\" fill=\"#ff0000\" fill-rule=\"evenodd\" fill-opacity=\"1\" stroke=\"#000000\" stroke-opacity=\"1\" stroke-width=\"2.4\"/>\n",
       "<circle clip-path=\"url(#clip892)\" cx=\"821.414\" cy=\"1043.3\" r=\"10.8\" fill=\"#ff0000\" fill-rule=\"evenodd\" fill-opacity=\"1\" stroke=\"#000000\" stroke-opacity=\"1\" stroke-width=\"2.4\"/>\n",
       "<circle clip-path=\"url(#clip892)\" cx=\"834.251\" cy=\"1043.3\" r=\"10.8\" fill=\"#ff0000\" fill-rule=\"evenodd\" fill-opacity=\"1\" stroke=\"#000000\" stroke-opacity=\"1\" stroke-width=\"2.4\"/>\n",
       "<circle clip-path=\"url(#clip892)\" cx=\"847.088\" cy=\"1043.3\" r=\"10.8\" fill=\"#ff0000\" fill-rule=\"evenodd\" fill-opacity=\"1\" stroke=\"#000000\" stroke-opacity=\"1\" stroke-width=\"2.4\"/>\n",
       "<circle clip-path=\"url(#clip892)\" cx=\"859.926\" cy=\"1043.3\" r=\"10.8\" fill=\"#ff0000\" fill-rule=\"evenodd\" fill-opacity=\"1\" stroke=\"#000000\" stroke-opacity=\"1\" stroke-width=\"2.4\"/>\n",
       "<circle clip-path=\"url(#clip892)\" cx=\"872.763\" cy=\"1043.3\" r=\"10.8\" fill=\"#ff0000\" fill-rule=\"evenodd\" fill-opacity=\"1\" stroke=\"#000000\" stroke-opacity=\"1\" stroke-width=\"2.4\"/>\n",
       "<circle clip-path=\"url(#clip892)\" cx=\"885.6\" cy=\"1043.3\" r=\"10.8\" fill=\"#ff0000\" fill-rule=\"evenodd\" fill-opacity=\"1\" stroke=\"#000000\" stroke-opacity=\"1\" stroke-width=\"2.4\"/>\n",
       "<circle clip-path=\"url(#clip892)\" cx=\"898.438\" cy=\"1043.3\" r=\"10.8\" fill=\"#ff0000\" fill-rule=\"evenodd\" fill-opacity=\"1\" stroke=\"#000000\" stroke-opacity=\"1\" stroke-width=\"2.4\"/>\n",
       "<circle clip-path=\"url(#clip892)\" cx=\"911.275\" cy=\"1043.3\" r=\"10.8\" fill=\"#ff0000\" fill-rule=\"evenodd\" fill-opacity=\"1\" stroke=\"#000000\" stroke-opacity=\"1\" stroke-width=\"2.4\"/>\n",
       "<circle clip-path=\"url(#clip892)\" cx=\"924.112\" cy=\"384.214\" r=\"10.8\" fill=\"#ff0000\" fill-rule=\"evenodd\" fill-opacity=\"1\" stroke=\"#000000\" stroke-opacity=\"1\" stroke-width=\"2.4\"/>\n",
       "<circle clip-path=\"url(#clip892)\" cx=\"936.95\" cy=\"1043.3\" r=\"10.8\" fill=\"#ff0000\" fill-rule=\"evenodd\" fill-opacity=\"1\" stroke=\"#000000\" stroke-opacity=\"1\" stroke-width=\"2.4\"/>\n",
       "<circle clip-path=\"url(#clip892)\" cx=\"949.787\" cy=\"392.829\" r=\"10.8\" fill=\"#ff0000\" fill-rule=\"evenodd\" fill-opacity=\"1\" stroke=\"#000000\" stroke-opacity=\"1\" stroke-width=\"2.4\"/>\n",
       "<circle clip-path=\"url(#clip892)\" cx=\"962.624\" cy=\"1043.3\" r=\"10.8\" fill=\"#ff0000\" fill-rule=\"evenodd\" fill-opacity=\"1\" stroke=\"#000000\" stroke-opacity=\"1\" stroke-width=\"2.4\"/>\n",
       "<circle clip-path=\"url(#clip892)\" cx=\"975.462\" cy=\"1043.3\" r=\"10.8\" fill=\"#ff0000\" fill-rule=\"evenodd\" fill-opacity=\"1\" stroke=\"#000000\" stroke-opacity=\"1\" stroke-width=\"2.4\"/>\n",
       "<circle clip-path=\"url(#clip892)\" cx=\"988.299\" cy=\"1043.3\" r=\"10.8\" fill=\"#ff0000\" fill-rule=\"evenodd\" fill-opacity=\"1\" stroke=\"#000000\" stroke-opacity=\"1\" stroke-width=\"2.4\"/>\n",
       "<circle clip-path=\"url(#clip892)\" cx=\"1001.14\" cy=\"1043.3\" r=\"10.8\" fill=\"#ff0000\" fill-rule=\"evenodd\" fill-opacity=\"1\" stroke=\"#000000\" stroke-opacity=\"1\" stroke-width=\"2.4\"/>\n",
       "<circle clip-path=\"url(#clip892)\" cx=\"1013.97\" cy=\"1043.3\" r=\"10.8\" fill=\"#ff0000\" fill-rule=\"evenodd\" fill-opacity=\"1\" stroke=\"#000000\" stroke-opacity=\"1\" stroke-width=\"2.4\"/>\n",
       "<circle clip-path=\"url(#clip892)\" cx=\"1026.81\" cy=\"1043.3\" r=\"10.8\" fill=\"#ff0000\" fill-rule=\"evenodd\" fill-opacity=\"1\" stroke=\"#000000\" stroke-opacity=\"1\" stroke-width=\"2.4\"/>\n",
       "<circle clip-path=\"url(#clip892)\" cx=\"1039.65\" cy=\"1043.3\" r=\"10.8\" fill=\"#ff0000\" fill-rule=\"evenodd\" fill-opacity=\"1\" stroke=\"#000000\" stroke-opacity=\"1\" stroke-width=\"2.4\"/>\n",
       "<circle clip-path=\"url(#clip892)\" cx=\"1052.49\" cy=\"1043.3\" r=\"10.8\" fill=\"#ff0000\" fill-rule=\"evenodd\" fill-opacity=\"1\" stroke=\"#000000\" stroke-opacity=\"1\" stroke-width=\"2.4\"/>\n",
       "<circle clip-path=\"url(#clip892)\" cx=\"1065.32\" cy=\"1043.3\" r=\"10.8\" fill=\"#ff0000\" fill-rule=\"evenodd\" fill-opacity=\"1\" stroke=\"#000000\" stroke-opacity=\"1\" stroke-width=\"2.4\"/>\n",
       "<circle clip-path=\"url(#clip892)\" cx=\"1078.16\" cy=\"1043.3\" r=\"10.8\" fill=\"#ff0000\" fill-rule=\"evenodd\" fill-opacity=\"1\" stroke=\"#000000\" stroke-opacity=\"1\" stroke-width=\"2.4\"/>\n",
       "<circle clip-path=\"url(#clip892)\" cx=\"1091\" cy=\"1043.3\" r=\"10.8\" fill=\"#ff0000\" fill-rule=\"evenodd\" fill-opacity=\"1\" stroke=\"#000000\" stroke-opacity=\"1\" stroke-width=\"2.4\"/>\n",
       "<circle clip-path=\"url(#clip892)\" cx=\"1103.83\" cy=\"1043.3\" r=\"10.8\" fill=\"#ff0000\" fill-rule=\"evenodd\" fill-opacity=\"1\" stroke=\"#000000\" stroke-opacity=\"1\" stroke-width=\"2.4\"/>\n",
       "<circle clip-path=\"url(#clip892)\" cx=\"1116.67\" cy=\"1043.3\" r=\"10.8\" fill=\"#ff0000\" fill-rule=\"evenodd\" fill-opacity=\"1\" stroke=\"#000000\" stroke-opacity=\"1\" stroke-width=\"2.4\"/>\n",
       "<circle clip-path=\"url(#clip892)\" cx=\"1129.51\" cy=\"1043.3\" r=\"10.8\" fill=\"#ff0000\" fill-rule=\"evenodd\" fill-opacity=\"1\" stroke=\"#000000\" stroke-opacity=\"1\" stroke-width=\"2.4\"/>\n",
       "<circle clip-path=\"url(#clip892)\" cx=\"1142.35\" cy=\"1043.3\" r=\"10.8\" fill=\"#ff0000\" fill-rule=\"evenodd\" fill-opacity=\"1\" stroke=\"#000000\" stroke-opacity=\"1\" stroke-width=\"2.4\"/>\n",
       "<circle clip-path=\"url(#clip892)\" cx=\"1155.18\" cy=\"1043.3\" r=\"10.8\" fill=\"#ff0000\" fill-rule=\"evenodd\" fill-opacity=\"1\" stroke=\"#000000\" stroke-opacity=\"1\" stroke-width=\"2.4\"/>\n",
       "<circle clip-path=\"url(#clip892)\" cx=\"1168.02\" cy=\"1043.3\" r=\"10.8\" fill=\"#ff0000\" fill-rule=\"evenodd\" fill-opacity=\"1\" stroke=\"#000000\" stroke-opacity=\"1\" stroke-width=\"2.4\"/>\n",
       "<circle clip-path=\"url(#clip892)\" cx=\"1180.86\" cy=\"1043.3\" r=\"10.8\" fill=\"#ff0000\" fill-rule=\"evenodd\" fill-opacity=\"1\" stroke=\"#000000\" stroke-opacity=\"1\" stroke-width=\"2.4\"/>\n",
       "<circle clip-path=\"url(#clip892)\" cx=\"1193.7\" cy=\"1043.3\" r=\"10.8\" fill=\"#ff0000\" fill-rule=\"evenodd\" fill-opacity=\"1\" stroke=\"#000000\" stroke-opacity=\"1\" stroke-width=\"2.4\"/>\n",
       "<circle clip-path=\"url(#clip892)\" cx=\"1206.53\" cy=\"1043.3\" r=\"10.8\" fill=\"#ff0000\" fill-rule=\"evenodd\" fill-opacity=\"1\" stroke=\"#000000\" stroke-opacity=\"1\" stroke-width=\"2.4\"/>\n",
       "<circle clip-path=\"url(#clip892)\" cx=\"1219.37\" cy=\"1043.3\" r=\"10.8\" fill=\"#ff0000\" fill-rule=\"evenodd\" fill-opacity=\"1\" stroke=\"#000000\" stroke-opacity=\"1\" stroke-width=\"2.4\"/>\n",
       "<circle clip-path=\"url(#clip892)\" cx=\"1232.21\" cy=\"1043.3\" r=\"10.8\" fill=\"#ff0000\" fill-rule=\"evenodd\" fill-opacity=\"1\" stroke=\"#000000\" stroke-opacity=\"1\" stroke-width=\"2.4\"/>\n",
       "<circle clip-path=\"url(#clip892)\" cx=\"1245.05\" cy=\"1043.3\" r=\"10.8\" fill=\"#ff0000\" fill-rule=\"evenodd\" fill-opacity=\"1\" stroke=\"#000000\" stroke-opacity=\"1\" stroke-width=\"2.4\"/>\n",
       "<circle clip-path=\"url(#clip892)\" cx=\"1257.88\" cy=\"1043.3\" r=\"10.8\" fill=\"#ff0000\" fill-rule=\"evenodd\" fill-opacity=\"1\" stroke=\"#000000\" stroke-opacity=\"1\" stroke-width=\"2.4\"/>\n",
       "<circle clip-path=\"url(#clip892)\" cx=\"1270.72\" cy=\"1043.3\" r=\"10.8\" fill=\"#ff0000\" fill-rule=\"evenodd\" fill-opacity=\"1\" stroke=\"#000000\" stroke-opacity=\"1\" stroke-width=\"2.4\"/>\n",
       "<circle clip-path=\"url(#clip892)\" cx=\"1283.56\" cy=\"1043.3\" r=\"10.8\" fill=\"#ff0000\" fill-rule=\"evenodd\" fill-opacity=\"1\" stroke=\"#000000\" stroke-opacity=\"1\" stroke-width=\"2.4\"/>\n",
       "<circle clip-path=\"url(#clip892)\" cx=\"1296.39\" cy=\"1043.3\" r=\"10.8\" fill=\"#ff0000\" fill-rule=\"evenodd\" fill-opacity=\"1\" stroke=\"#000000\" stroke-opacity=\"1\" stroke-width=\"2.4\"/>\n",
       "<circle clip-path=\"url(#clip892)\" cx=\"1309.23\" cy=\"1043.3\" r=\"10.8\" fill=\"#ff0000\" fill-rule=\"evenodd\" fill-opacity=\"1\" stroke=\"#000000\" stroke-opacity=\"1\" stroke-width=\"2.4\"/>\n",
       "<circle clip-path=\"url(#clip892)\" cx=\"1322.07\" cy=\"1043.3\" r=\"10.8\" fill=\"#ff0000\" fill-rule=\"evenodd\" fill-opacity=\"1\" stroke=\"#000000\" stroke-opacity=\"1\" stroke-width=\"2.4\"/>\n",
       "<circle clip-path=\"url(#clip892)\" cx=\"1334.91\" cy=\"1043.3\" r=\"10.8\" fill=\"#ff0000\" fill-rule=\"evenodd\" fill-opacity=\"1\" stroke=\"#000000\" stroke-opacity=\"1\" stroke-width=\"2.4\"/>\n",
       "<circle clip-path=\"url(#clip892)\" cx=\"1347.74\" cy=\"1043.3\" r=\"10.8\" fill=\"#ff0000\" fill-rule=\"evenodd\" fill-opacity=\"1\" stroke=\"#000000\" stroke-opacity=\"1\" stroke-width=\"2.4\"/>\n",
       "<circle clip-path=\"url(#clip892)\" cx=\"1360.58\" cy=\"1043.3\" r=\"10.8\" fill=\"#ff0000\" fill-rule=\"evenodd\" fill-opacity=\"1\" stroke=\"#000000\" stroke-opacity=\"1\" stroke-width=\"2.4\"/>\n",
       "<circle clip-path=\"url(#clip892)\" cx=\"1373.42\" cy=\"1043.3\" r=\"10.8\" fill=\"#ff0000\" fill-rule=\"evenodd\" fill-opacity=\"1\" stroke=\"#000000\" stroke-opacity=\"1\" stroke-width=\"2.4\"/>\n",
       "<circle clip-path=\"url(#clip892)\" cx=\"1386.26\" cy=\"1043.3\" r=\"10.8\" fill=\"#ff0000\" fill-rule=\"evenodd\" fill-opacity=\"1\" stroke=\"#000000\" stroke-opacity=\"1\" stroke-width=\"2.4\"/>\n",
       "<circle clip-path=\"url(#clip892)\" cx=\"1399.09\" cy=\"1043.3\" r=\"10.8\" fill=\"#ff0000\" fill-rule=\"evenodd\" fill-opacity=\"1\" stroke=\"#000000\" stroke-opacity=\"1\" stroke-width=\"2.4\"/>\n",
       "<circle clip-path=\"url(#clip892)\" cx=\"1411.93\" cy=\"1043.3\" r=\"10.8\" fill=\"#ff0000\" fill-rule=\"evenodd\" fill-opacity=\"1\" stroke=\"#000000\" stroke-opacity=\"1\" stroke-width=\"2.4\"/>\n",
       "<circle clip-path=\"url(#clip892)\" cx=\"1424.77\" cy=\"1043.3\" r=\"10.8\" fill=\"#ff0000\" fill-rule=\"evenodd\" fill-opacity=\"1\" stroke=\"#000000\" stroke-opacity=\"1\" stroke-width=\"2.4\"/>\n",
       "<circle clip-path=\"url(#clip892)\" cx=\"1437.61\" cy=\"1043.3\" r=\"10.8\" fill=\"#ff0000\" fill-rule=\"evenodd\" fill-opacity=\"1\" stroke=\"#000000\" stroke-opacity=\"1\" stroke-width=\"2.4\"/>\n",
       "<circle clip-path=\"url(#clip892)\" cx=\"1450.44\" cy=\"1043.3\" r=\"10.8\" fill=\"#ff0000\" fill-rule=\"evenodd\" fill-opacity=\"1\" stroke=\"#000000\" stroke-opacity=\"1\" stroke-width=\"2.4\"/>\n",
       "<circle clip-path=\"url(#clip892)\" cx=\"1463.28\" cy=\"1043.3\" r=\"10.8\" fill=\"#ff0000\" fill-rule=\"evenodd\" fill-opacity=\"1\" stroke=\"#000000\" stroke-opacity=\"1\" stroke-width=\"2.4\"/>\n",
       "<circle clip-path=\"url(#clip892)\" cx=\"1476.12\" cy=\"1043.3\" r=\"10.8\" fill=\"#ff0000\" fill-rule=\"evenodd\" fill-opacity=\"1\" stroke=\"#000000\" stroke-opacity=\"1\" stroke-width=\"2.4\"/>\n",
       "<circle clip-path=\"url(#clip892)\" cx=\"1488.95\" cy=\"1043.3\" r=\"10.8\" fill=\"#ff0000\" fill-rule=\"evenodd\" fill-opacity=\"1\" stroke=\"#000000\" stroke-opacity=\"1\" stroke-width=\"2.4\"/>\n",
       "<circle clip-path=\"url(#clip892)\" cx=\"1501.79\" cy=\"1043.3\" r=\"10.8\" fill=\"#ff0000\" fill-rule=\"evenodd\" fill-opacity=\"1\" stroke=\"#000000\" stroke-opacity=\"1\" stroke-width=\"2.4\"/>\n",
       "<circle clip-path=\"url(#clip892)\" cx=\"1514.63\" cy=\"1043.3\" r=\"10.8\" fill=\"#ff0000\" fill-rule=\"evenodd\" fill-opacity=\"1\" stroke=\"#000000\" stroke-opacity=\"1\" stroke-width=\"2.4\"/>\n",
       "<path clip-path=\"url(#clip890)\" d=\"M1320.71 185.093 L1507.85 185.093 L1507.85 81.4129 L1320.71 81.4129  Z\" fill=\"#ffffff\" fill-rule=\"evenodd\" fill-opacity=\"1\"/>\n",
       "<polyline clip-path=\"url(#clip890)\" style=\"stroke:#000000; stroke-linecap:round; stroke-linejoin:round; stroke-width:4; stroke-opacity:1; fill:none\" points=\"1320.71,185.093 1507.85,185.093 1507.85,81.4129 1320.71,81.4129 1320.71,185.093 \"/>\n",
       "<circle clip-path=\"url(#clip890)\" cx=\"1380.58\" cy=\"133.253\" r=\"19.7486\" fill=\"#ff0000\" fill-rule=\"evenodd\" fill-opacity=\"1\" stroke=\"#000000\" stroke-opacity=\"1\" stroke-width=\"4.38857\"/>\n",
       "<path clip-path=\"url(#clip890)\" d=\"M1454.29 152.94 Q1452.49 157.57 1450.78 158.982 Q1449.06 160.394 1446.19 160.394 L1442.79 160.394 L1442.79 156.829 L1445.29 156.829 Q1447.05 156.829 1448.02 155.996 Q1448.99 155.163 1450.17 152.061 L1450.94 150.116 L1440.45 124.607 L1444.97 124.607 L1453.07 144.885 L1461.17 124.607 L1465.68 124.607 L1454.29 152.94 Z\" fill=\"#000000\" fill-rule=\"nonzero\" fill-opacity=\"1\" /><path clip-path=\"url(#clip890)\" d=\"M1472.98 146.598 L1480.61 146.598 L1480.61 120.232 L1472.3 121.899 L1472.3 117.64 L1480.57 115.973 L1485.24 115.973 L1485.24 146.598 L1492.88 146.598 L1492.88 150.533 L1472.98 150.533 L1472.98 146.598 Z\" fill=\"#000000\" fill-rule=\"nonzero\" fill-opacity=\"1\" /></svg>\n"
      ]
     },
     "execution_count": 64,
     "metadata": {},
     "output_type": "execute_result"
    }
   ],
   "source": [
    "D(h) = max(  abs(sqrt(1+h)-1)  /h - 0.5, 1e-20)\n",
    "valores_h = [2.0^p for p = range(-50, -10, length=100)]\n",
    "\n",
    "plot(xaxis=:log,  yaxis=:log)\n",
    "scatter!(valores_h, D.(valores_h), c=:red, ms=3)"
   ]
  },
  {
   "cell_type": "code",
   "execution_count": null,
   "id": "917cd639-d927-47ca-9549-c3b0ad80efa6",
   "metadata": {},
   "outputs": [],
   "source": []
  }
 ],
 "metadata": {
  "kernelspec": {
   "display_name": "Julia 1.9.2",
   "language": "julia",
   "name": "julia-1.9"
  },
  "language_info": {
   "file_extension": ".jl",
   "mimetype": "application/julia",
   "name": "julia",
   "version": "1.9.2"
  }
 },
 "nbformat": 4,
 "nbformat_minor": 5
}
