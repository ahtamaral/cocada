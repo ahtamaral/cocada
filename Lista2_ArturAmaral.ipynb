{
 "cells": [
  {
   "cell_type": "markdown",
   "id": "cfa78e92-8d47-49f3-8229-7945997f7952",
   "metadata": {},
   "source": [
    "# Computação científica e análise de dados - 2023.2\n",
    "# **Lista 2:** Posto, fatoração LU e sistemas lineares\n",
    "## **Autor:** Artur Henrique Teixeira do Amaral\n",
    "## **DRE:** 122032113"
   ]
  },
  {
   "cell_type": "code",
   "execution_count": 1,
   "id": "d53cfb85-61bb-4e34-a843-28683b5cfa0d",
   "metadata": {},
   "outputs": [],
   "source": [
    "using LinearAlgebra"
   ]
  },
  {
   "cell_type": "markdown",
   "id": "12dec628-8395-4542-a7e3-f4f8f613b5e5",
   "metadata": {
    "jp-MarkdownHeadingCollapsed": true,
    "tags": []
   },
   "source": [
    "## **Ex. 1**"
   ]
  },
  {
   "cell_type": "code",
   "execution_count": 60,
   "id": "dce5571e-2a2b-4d33-82b3-0b5d54b90c40",
   "metadata": {},
   "outputs": [
    {
     "data": {
      "text/plain": [
       "5×5 Matrix{Float64}:\n",
       " 0.0  1.6  0.8  1.8  1.4\n",
       " 0.2  1.4  0.6  1.6  1.2\n",
       " 1.2  0.4  0.4  0.6  0.2\n",
       " 0.6  1.0  0.2  1.2  0.8\n",
       " 1.8  0.2  1.0  0.0  0.4"
      ]
     },
     "metadata": {},
     "output_type": "display_data"
    }
   ],
   "source": [
    "# 1-a)\n",
    "\n",
    "# A matriz de usuários por filmes possui a seguinte interpetração:\n",
    "# Cada linha representa um usuário, cada coluna representa um filme.\n",
    "# O número em uma posição qualquer é o quanto aquele filme coincide com o perfil daquele usuário.\n",
    "# Quanto MAIS PRÓXIMO DE ZERO o número, mais o usuário tem compatibilidade com o filme.\n",
    "# O valor é o somatório da diferença absoluta entre preferência do usuário e genêro do filme.\n",
    "\n",
    "UserFeatureMatrix = \n",
    "   [0.9 0.1\n",
    "    0.8 0.2\n",
    "    0.3 0.7\n",
    "    0.6 0.4\n",
    "    0    1]\n",
    "\n",
    "MovieFeatureMatrix =\n",
    "   [0.9 0.1\n",
    "    0.1 0.9\n",
    "    0.5 0.5\n",
    "    0    1\n",
    "    0.2 0.8]\n",
    "\n",
    "\n",
    "UserMovieMatrix = zeros( length(UserFeatureMatrix[:,1]),\n",
    "                        length(MovieFeatureMatrix[:,1]))\n",
    "\n",
    "for user in 1:length(UserFeatureMatrix[:,1])\n",
    "    for movie in 1:length(UserMovieMatrix[:,1])\n",
    "        UserMovieMatrix[user, movie] =  abs(UserFeatureMatrix[user, 1] - MovieFeatureMatrix[movie, 1]) + # preferencia por romance do usuário - valor de romance no filme...\n",
    "                                        abs(UserFeatureMatrix[user, 2] - MovieFeatureMatrix[movie, 2])\n",
    "    end\n",
    "end \n",
    "\n",
    "display(UserMovieMatrix)"
   ]
  },
  {
   "cell_type": "code",
   "execution_count": 61,
   "id": "a8eb2a75-38bb-4063-99cd-b67e85b84f4a",
   "metadata": {},
   "outputs": [
    {
     "name": "stdout",
     "output_type": "stream",
     "text": [
      "1 2"
     ]
    }
   ],
   "source": [
    "# 1-b)\n",
    "# Cada linha da matriz representa um usuário, em que cada valor é o gosto por um filme.\n",
    "# Ao calcular a distância euclidiana entre duas linhas quaisquer, teremos uma medida de quão parecidos são dois usuários.\n",
    "# Quanto menor for a distância entres dois usuários, mas parecidos entre se eles são.\n",
    "\n",
    "leastDistance = 1000000000000 # Distancia suficientemente grande para iniciar o algoritmo de encontrar o menor número.\n",
    "firstUser = 0\n",
    "secondUser = 0\n",
    "\n",
    "for firstUserIdx in 1:length(UserMovieMatrix[:,1])\n",
    "    for secondUserIdx in 1:length(UserMovieMatrix[:,1])\n",
    "        if firstUserIdx != secondUserIdx # Ignora-se a comparação de um usuário com ele mesmo\n",
    "            # Norma entre dois usuários quaisquer\n",
    "            n = norm( UserMovieMatrix[firstUserIdx,:] - UserMovieMatrix[secondUserIdx,:]) \n",
    "            \n",
    "            # Caso uma distancia menor que a atual seja encontrada, atualiza-se a menor distancia e quem são os usuários que a representam.\n",
    "            if n < leastDistance\n",
    "                leastDistance = n\n",
    "                firstUser = firstUserIdx\n",
    "                secondUser = secondUserIdx\n",
    "            end\n",
    "            \n",
    "            # println(firstUserIdx, \" \", secondUserIdx, \" \", n)\n",
    "        end\n",
    "    end\n",
    "end\n",
    "\n",
    "print(firstUser, \" \", secondUser)\n",
    "\n",
    "# Pela execução do código, conclui-se que os usuários mais parecidos entre si são A e B (Índices 1 e 2, respectivamente.)"
   ]
  },
  {
   "cell_type": "markdown",
   "id": "847ad49f-ca7c-4ffb-8a71-1d0464d73a61",
   "metadata": {
    "jp-MarkdownHeadingCollapsed": true,
    "tags": []
   },
   "source": [
    "## **Ex. 2**"
   ]
  },
  {
   "cell_type": "markdown",
   "id": "f5e0d2f1-573b-4048-8232-702d3bb95f73",
   "metadata": {},
   "source": [
    "**(a)** Significa que eles não possuem nenhum sintoma em comum.\n",
    "\n",
    "**(b)** Significa que esses dois sintomas não estão presentes simultaneamente em um mesmo paciente.\n",
    "\n",
    "**(c)** Significa que eles possuem exatamento a mesma combinação de sintomas.\n",
    "\n",
    "**(d)** Significa que a ocorrência destes dois sintomas é igual em todos os pacientes."
   ]
  },
  {
   "cell_type": "markdown",
   "id": "ce8d5ddd-0430-44ac-a056-c4633e48e4d0",
   "metadata": {
    "jp-MarkdownHeadingCollapsed": true,
    "tags": []
   },
   "source": [
    "## **Ex. 3**"
   ]
  },
  {
   "cell_type": "markdown",
   "id": "6a867e6f-1ed4-494e-89a2-6d82559c7179",
   "metadata": {},
   "source": [
    "**(a)** Nomenado as colunas da matriz A como ai, onde i é o número da coluna, podemos escrevê-la  como:\n",
    "\n",
    "**A = [a1 a2 a3 a4 a5]**\n",
    "\n",
    "Observam-se as seguintes relações:\n",
    "\n",
    "Sendo **v = [-1 -10 -1 -1]**\n",
    "\n",
    "* **a1 = a1**\n",
    "* **a2 = 5*a1**\n",
    "* **a3 = 10*a1**\n",
    "* **a4 = a1*v**  *# Obs: a posição dos vetores não está rigorosamente certa. Interprete como o produto que resulta na coluna a4.*\n",
    "* **a5 = a1*0**\n",
    "\n",
    "Isto é, as colunas de A podem ser escritas como produtos de apenas dois vetores: a1 e v.\n",
    "Isso nos sugere que o posto da matriz A é 2.\n",
    "\n",
    "**(b)** Seguindo o mesmo raciocínio, as colunas da matriz A serão nomeadas ai, de forma que:\n",
    "\n",
    "**A = [a1 a2 a3 a4 a5]**\n",
    "\n",
    "Podemos observar as seguintes relações entre as colunas:\n",
    "\n",
    "* **a1 = a1**\n",
    "* **a2 = a2**\n",
    "* **a3 = a3**\n",
    "* **a4 = 100*a3**\n",
    "* **a5 = a1 + 10*a2**\n",
    "\n",
    "Como as 5 colunas de podem ser reescritas como combinações lineares de três destas colunas, isso nos sugere que o posto desta matriz é 3."
   ]
  },
  {
   "cell_type": "markdown",
   "id": "866733da-db8d-4f3b-8846-777bdb5e657e",
   "metadata": {
    "jp-MarkdownHeadingCollapsed": true,
    "tags": []
   },
   "source": [
    "## **Ex. 4**"
   ]
  },
  {
   "cell_type": "markdown",
   "id": "024dc34d-1f61-4798-9470-27de890a7edd",
   "metadata": {},
   "source": [
    "``` Julia\n",
    "A = [2 10 20 200 -10\n",
    "-3 -15 -30 -300 15\n",
    "5 25 50 500 -25\n",
    "7 35 70 700 -35]\n",
    "```\n",
    "\n",
    "A matriz A é posto 1, podendo ser representada pelo produto das matrizes B e C tal que:\n",
    "\n",
    "``` Julia\n",
    "A = B*C\n",
    "\n",
    "B = [2\n",
    "    -3\n",
    "    5\n",
    "    7]\n",
    "\n",
    "C = [1 5 10 100 -5]\n",
    "\n",
    "```\n",
    "\n",
    "Interpretando esses dados, podemos considerar os valores na matriz B como o quanto aquele usuário gosta de comédia. Os valores na matriz C podem ser interpretados como o quanto cada filme é de comédia. \n",
    "\n",
    "Dessa forma, ao realizar a multiplicação das duas matrizes, por exemplo, se um usuário que possui uma preferência negativa por comédia encontrar um filme muito de comédia, sua avaliação será muito negativa, ao passo de que, se o filme for só um pouco de comédia, será pouco negativa e, se não for de comédia (negativo), sua avaliação ficará positiva."
   ]
  },
  {
   "cell_type": "markdown",
   "id": "baba65c4-e039-4227-8d3a-1881e37a12d8",
   "metadata": {
    "jp-MarkdownHeadingCollapsed": true,
    "tags": []
   },
   "source": [
    "## **Ex. 5**"
   ]
  },
  {
   "cell_type": "markdown",
   "id": "6253b5af-ac8c-47e1-9a2a-ad02ec45f57c",
   "metadata": {},
   "source": [
    "**(a)**\n",
    "\n",
    "Podemos representar a bandeira da Grécia como uma matriz G, onde 0 representa a cor branca e 1 representa a cor azul.\n",
    "\n",
    "É possível observar que todas as colunas dessa matriz repetem basicamente três padrões, que são:\n",
    "\n",
    "``` Julia\n",
    "g1 = [\n",
    "    1\n",
    "    1\n",
    "    0\n",
    "    1\n",
    "    1\n",
    "    0\n",
    "    1\n",
    "    0\n",
    "    1\n",
    "]\n",
    "\n",
    "que representa a coluna mais a esquerda, que possui listrado horizontal e a parte do quadrado que possui azul predominante.\n",
    "\n",
    "g2 = [\n",
    "    0\n",
    "    0\n",
    "    0\n",
    "    0\n",
    "    0\n",
    "    0\n",
    "    1\n",
    "    0\n",
    "    1\n",
    "]\n",
    "    \n",
    "que representa a única coluna que possui uma faixa branca na vertical.\n",
    "\n",
    "g3 = [\n",
    "    1\n",
    "    0\n",
    "    1\n",
    "    0\n",
    "    1\n",
    "    0\n",
    "    1\n",
    "    0\n",
    "    1\n",
    "]\n",
    "    \n",
    "que representa todas as colunas mais à direita, o listrado horizontal.\n",
    "```\n",
    "\n",
    "Como podemos interpretar o posto de uma matriz como o número de colunas linearmente independentes dela, concluimos que a bandeira da Grécia possui posto 3.\n",
    "\n",
    "**(b)** Alemanha e Colômbia\n",
    "\n",
    "**(c)** Dinamarca e Finlândia\n",
    "\n",
    "**(d)** França e Itália"
   ]
  },
  {
   "cell_type": "markdown",
   "id": "9dce9060-1614-4b76-8bd7-310938158eca",
   "metadata": {
    "jp-MarkdownHeadingCollapsed": true,
    "tags": []
   },
   "source": [
    "## **Ex. 6**"
   ]
  },
  {
   "cell_type": "markdown",
   "id": "e47341cb-f23b-4187-bf23-f84b7d43762b",
   "metadata": {},
   "source": [
    "O sorriso pode ser representado como uma matriz 5x5, com os valores 0, 1 e 2 representando suas cores. \n",
    "\n",
    "A referência tomada será do mais claro para o mais escuro, logo 0 equivale a cor branca, 1 ao cinza e 2 ao preto.\n",
    "\n",
    "Logo, a matriz do sorriso é S tal que:\n",
    "\n",
    "``` Julia\n",
    "S = [\n",
    "0 2 0 2 0\n",
    "0 2 0 2 0\n",
    "0 0 1 0 0\n",
    "2 0 0 0 2\n",
    "0 2 2 2 0\n",
    "]\n",
    "```\n",
    "\n",
    "e suas colunas chamam-se si, tal que:\n",
    "\n",
    "**S = [s1 s2 s3 s4 s5]**\n",
    "\n",
    "Intuitivamente, podemos pensar que, como o sorriso é simétrico, podemos armazená-lo sem as colunas 4 e 5 sem perder informação.\n",
    "\n",
    "Aplicando o mesmo raciocínio do exercício 3, podemos escrever as colunas do sorriso como:\n",
    "\n",
    "* **s1 = s1**\n",
    "* **s2 = s2**\n",
    "* **s3 = s3**\n",
    "* **s4 = s2**\n",
    "* **s5 = s1**\n",
    "\n",
    "Como podemos escrever as 5 colunas da matriz a partir de combinações de apenas 3 colunas, podemos inferir que o posto do sorriso é 3."
   ]
  },
  {
   "cell_type": "markdown",
   "id": "15c4a8c4-5b60-4da3-987b-ae777ed0c2e8",
   "metadata": {
    "jp-MarkdownHeadingCollapsed": true,
    "tags": []
   },
   "source": [
    "## **Ex. 7**"
   ]
  },
  {
   "cell_type": "markdown",
   "id": "780eb274-c8d6-42e3-b470-c8cba10de356",
   "metadata": {},
   "source": [
    "Seja a matriz:\n",
    "``` Julia\n",
    "A = [1 2\n",
    "    1 3]\n",
    "```\n",
    "\n",
    "Podemos somar menos uma vezes a primeira linha à segunda linha, e atribuir esse resultado à própria segunda linha, obtendo a matriz:\n",
    "``` Julia\n",
    "U = [1 2\n",
    "    0 1]\n",
    "```\n",
    "\n",
    "A matriz triangular inferior que desfaz essa operação é L, tal que:\n",
    "\n",
    "``` Julia\n",
    "L = [1 0\n",
    "    1 1]\n",
    "\n",
    "A = L*U\n",
    "```\n",
    "\n",
    "A obtenção da matriz L foi realizada na tentativa e erro, sem uso de fórmulas da decomposição LU.\n"
   ]
  },
  {
   "cell_type": "markdown",
   "id": "e8abf884-cd36-491c-8e82-80bbf09db15a",
   "metadata": {
    "jp-MarkdownHeadingCollapsed": true,
    "tags": []
   },
   "source": [
    "## **Ex. 8**"
   ]
  },
  {
   "cell_type": "markdown",
   "id": "a25e4fb1-4e38-47da-85b0-a088053ec8b1",
   "metadata": {},
   "source": [
    "**Notação:**\n",
    "\n",
    "Ao aplicar a eliminação gaussiana, utilizarei a seguinte notação:\n",
    "``` Julia\n",
    "Li <- a*Li + b*Lj\n",
    "```\n",
    "Significa que o novo valor atribuído à linha **Li** é **a** vezes **Li** mais **b** vezes **Lj**.\n",
    "\n",
    "---\n",
    "\n",
    "**(a)**\n",
    "\n",
    "Dada a matriz \n",
    "\n",
    "``` Julia\n",
    "A = [2 1 1\n",
    "    4 3 3\n",
    "    6 7 10]\n",
    "```\n",
    "\n",
    "Seguem os passos da eliminação gaussiana para obtenção da matriz triangular superior U:\n",
    "\n",
    "``` Julia\n",
    "L2 <- L2 - 2*L1\n",
    "L3 <- L3 - 3*L1\n",
    "\n",
    "Obtendo:\n",
    "\n",
    "A = [2 1 1\n",
    "    0 1 1\n",
    "    0 4 7]\n",
    "\n",
    "Por fim:\n",
    "\n",
    "L3 <- L3 -4*L2\n",
    "\n",
    "U = [2 1 1\n",
    "    0 1 1\n",
    "    0 0 3]\n",
    "```\n",
    "\n",
    "Dada essa matriz U, obtida pelo processo de eliminação gaussiana, realizei um procedimento de tentativa e erro na mão para encontrar a matriz L.\n",
    "Nesse processo, descobri que os valores que ocupam os lugares dos coeficiente **a** e **b** da minha notação aparecem na matriz L, seguindo algum padrão. \n",
    "\n",
    "Segue a matriz L:\n",
    "\n",
    "``` Julia\n",
    "\n",
    "L = [1 0 0\n",
    "    2 1 0\n",
    "    3 4 1]\n",
    "\n",
    "tal que:\n",
    "\n",
    "A = L*U\n",
    "\n",
    "```\n",
    "\n",
    "**(b)**\n",
    "\n",
    "Seja o vetor x pertencente a R3, tal que x = (x1, x2, x3).\n",
    "\n",
    "Podemos representar a equação dada como o sistema linear:\n",
    "\n",
    "```Julia\n",
    "2*x1 + x2 + x3 = 2\n",
    "       x2 + x3 = 4\n",
    "            x3 = 6\n",
    "```\n",
    "Aplicando a substituição reversa, achamos que\n",
    "\n",
    "```\n",
    "x = (-1, -2, 6)\n",
    "```"
   ]
  },
  {
   "cell_type": "markdown",
   "id": "82bfabb6-2ecb-44df-9681-81350ef75b04",
   "metadata": {
    "jp-MarkdownHeadingCollapsed": true,
    "tags": []
   },
   "source": [
    "## **Ex. 9** (DOING)"
   ]
  },
  {
   "cell_type": "code",
   "execution_count": 79,
   "id": "f054ac70-819d-48b4-89ec-eae4bad22911",
   "metadata": {},
   "outputs": [
    {
     "data": {
      "text/plain": [
       "3×3 Matrix{Int64}:\n",
       " 2   1   1\n",
       " 4   5   4\n",
       " 6  15  16"
      ]
     },
     "metadata": {},
     "output_type": "display_data"
    },
    {
     "data": {
      "text/plain": [
       "3×3 Matrix{Float64}:\n",
       " 1.0  0.0  0.0\n",
       " 2.0  1.0  0.0\n",
       " 3.0  4.0  1.0"
      ]
     },
     "metadata": {},
     "output_type": "display_data"
    },
    {
     "data": {
      "text/plain": [
       "3×3 Matrix{Float64}:\n",
       " 2.0  1.0  1.0\n",
       " 0.0  3.0  2.0\n",
       " 0.0  0.0  5.0"
      ]
     },
     "metadata": {},
     "output_type": "display_data"
    },
    {
     "data": {
      "text/plain": [
       "3-element Vector{Float64}:\n",
       " 0.5\n",
       " 0.0\n",
       " 0.0"
      ]
     },
     "metadata": {},
     "output_type": "display_data"
    },
    {
     "data": {
      "text/plain": [
       "3-element Vector{Float64}:\n",
       " -0.16666666666666666\n",
       "  0.3333333333333333\n",
       "  0.0"
      ]
     },
     "metadata": {},
     "output_type": "display_data"
    },
    {
     "data": {
      "text/plain": [
       "3-element Vector{Float64}:\n",
       " -0.03333333333333334\n",
       " -0.13333333333333333\n",
       "  0.2"
      ]
     },
     "metadata": {},
     "output_type": "display_data"
    }
   ],
   "source": [
    "A = [2 1 1\n",
    "4 5 4\n",
    "6 15 16]\n",
    "\n",
    "display(A)\n",
    "\n",
    "# 9-a)\n",
    "# Uma opção de matrix de posto 1 que aproxima A é uma matriz A1 cujas colunas são todas iguais à segunda coluna de A.\n",
    "\n",
    "A1 = [1 1 1\n",
    "5 5 5\n",
    "15 15 15]\n",
    "\n",
    "norm(A-A1)\n",
    "\n",
    "# 9-b)\n",
    "\n",
    "# Implementação da decomposição LU fornecida pelo professor no classroom.\n",
    "function LU(A)\n",
    "    n,n=size(A)\n",
    "    L=zeros(n,n)\n",
    "    U=zeros(n,n)\n",
    "    for i=1:n\n",
    "        pivô=A[i,i]\n",
    "        linha=A[i,:]\n",
    "        coluna=(1/pivô)*A[:,i]\n",
    "        L[:,i]=coluna #i-ésima coluna da L\n",
    "        U[i,:]=linha #i-ésima linha da U\n",
    "        A=A-coluna*linha'\n",
    "    end\n",
    "    return L,U\n",
    "end\n",
    "\n",
    "L,U = LU(A)\n",
    "display(L)\n",
    "display(U)"
   ]
  },
  {
   "cell_type": "code",
   "execution_count": 80,
   "id": "1b6dd3d9-5075-4482-9ccb-a3537ca29a46",
   "metadata": {},
   "outputs": [
    {
     "data": {
      "text/plain": [
       "3-element Vector{Float64}:\n",
       " 0.5\n",
       " 0.0\n",
       " 0.0"
      ]
     },
     "metadata": {},
     "output_type": "display_data"
    },
    {
     "data": {
      "text/plain": [
       "3-element Vector{Float64}:\n",
       " -0.16666666666666666\n",
       "  0.3333333333333333\n",
       "  0.0"
      ]
     },
     "metadata": {},
     "output_type": "display_data"
    },
    {
     "data": {
      "text/plain": [
       "3-element Vector{Float64}:\n",
       " -0.03333333333333334\n",
       " -0.13333333333333333\n",
       "  0.2"
      ]
     },
     "metadata": {},
     "output_type": "display_data"
    }
   ],
   "source": [
    "# 9-c), 9-d), 9-e)\n",
    "\n",
    "e1 = [1\n",
    "0\n",
    "0]\n",
    "\n",
    "e2 = [0\n",
    "1\n",
    "0]\n",
    "\n",
    "e3 = [0\n",
    "0\n",
    "1]\n",
    "\n",
    "x1 = U\\e1\n",
    "x2 = U\\e2\n",
    "x3 = U\\e3\n",
    "\n",
    "display(x1)\n",
    "display(x2)\n",
    "display(x3)"
   ]
  },
  {
   "cell_type": "code",
   "execution_count": 83,
   "id": "7edbd69a-ab2b-47e9-ae7f-cd0e02e58645",
   "metadata": {},
   "outputs": [
    {
     "data": {
      "text/plain": [
       "3-element Vector{Float64}:\n",
       " 0.0\n",
       " 0.0\n",
       " 1.0"
      ]
     },
     "execution_count": 83,
     "metadata": {},
     "output_type": "execute_result"
    }
   ],
   "source": [
    "# 9-f)\n",
    "\n",
    "# A inversa B de A é tal que B*A*x1=e1, B*A*x2=e2, B*A*x3=e3.\n",
    "# Calculando A*xi, que tem como resultado um vetor y, para achar a inversa B, basta resolvermos B*y=ei.\n",
    "# Para as três equações mencionadas, a inversa de A deve dar o mesmo resultado.\n",
    "\n",
    "y1 = A*x1\n",
    "y2 = A*x2\n",
    "y3 = A*x3\n",
    "\n",
    "B\n"
   ]
  },
  {
   "cell_type": "code",
   "execution_count": null,
   "id": "6d6aa6a8-3e5a-4f28-bf78-b48d586fb4cb",
   "metadata": {},
   "outputs": [],
   "source": []
  }
 ],
 "metadata": {
  "kernelspec": {
   "display_name": "Julia 1.9.2",
   "language": "julia",
   "name": "julia-1.9"
  },
  "language_info": {
   "file_extension": ".jl",
   "mimetype": "application/julia",
   "name": "julia",
   "version": "1.9.2"
  }
 },
 "nbformat": 4,
 "nbformat_minor": 5
}
