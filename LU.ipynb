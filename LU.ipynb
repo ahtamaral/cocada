{
 "cells": [
  {
   "cell_type": "code",
   "execution_count": 1,
   "id": "9a271aa0-b82d-4391-ae64-77460ac1035c",
   "metadata": {},
   "outputs": [
    {
     "data": {
      "text/plain": [
       "resolve_sistema (generic function with 1 method)"
      ]
     },
     "execution_count": 1,
     "metadata": {},
     "output_type": "execute_result"
    }
   ],
   "source": [
    "using LinearAlgebra\n",
    "\n",
    "function LU(A) #vamos A é quadrada nxn\n",
    "    n,n=size(A)\n",
    "    L=zeros(n,n)\n",
    "    U=zeros(n,n)\n",
    "    for i=1:n\n",
    "        pivô=A[i,i]\n",
    "        linha=A[i,:]\n",
    "        coluna=(1/pivô)*A[:,i]\n",
    "        L[:,i]=coluna #i-ésima coluna da L\n",
    "        U[i,:]=linha #i-ésima linha da U\n",
    "        A=A-coluna*linha'\n",
    "    end\n",
    "    return L,U\n",
    "end\n",
    "\n",
    "function subs_reversa(U,b) \n",
    "    #U é uma matriz triangular superior 3x3 com elementos na diagonal diferentes de zero\n",
    "    #e b é um vetor 3x1\n",
    "    x=zeros(3,1)\n",
    "    x[3]=b[3]/U[3,3]\n",
    "    x[2]=(b[2]-U[2,3]*x[3])/U[2,2]\n",
    "    x[1]=(b[1]-(U[1,2]*x[2]+U[1,3]*x[3]))/U[1,1]\n",
    "    #CASA: Generalize o código para nxn\n",
    "    return x # é um vetor 3x1 \n",
    "end\n",
    "\n",
    "U=[3 1 2;0 1 1;0 0 5]\n",
    "\n",
    "b=[6;2;5]\n",
    "\n",
    "x=subs_reversa(U,b)\n",
    "norm(U*x-b)\n",
    "\n",
    "#Teste completo\n",
    "A=randn(3,3)\n",
    "b=randn(3,1)\n",
    "L,U=LU(A)\n",
    "x=subs_reversa(U,b)\n",
    "norm(U*x-b)<0.0000000000001\n",
    "\n",
    "function subs_direta(L,b)\n",
    "    ####CASA\n",
    "    \n",
    "    return x\n",
    "end\n",
    "\n",
    "function resolve_sistema(A,b)\n",
    "#A é uma matriz  3x3 com elementos     #eb é um vetor 3x1\n",
    "    L,U=LU(A)\n",
    "    y=subs_direta(L,b)\n",
    "    x=subs_reversa(U,y)\n",
    "    return x\n",
    "end"
   ]
  },
  {
   "cell_type": "code",
   "execution_count": 5,
   "id": "1c578e26-4b5d-4303-b51b-193c040b84e8",
   "metadata": {},
   "outputs": [
    {
     "data": {
      "text/plain": [
       "3×3 Matrix{Float64}:\n",
       " 1.0  0.0  0.0\n",
       " 2.0  1.0  0.0\n",
       " 3.0  4.0  1.0"
      ]
     },
     "metadata": {},
     "output_type": "display_data"
    },
    {
     "data": {
      "text/plain": [
       "3×3 Matrix{Float64}:\n",
       " 2.0  1.0  1.0\n",
       " 0.0  1.0  1.0\n",
       " 0.0  0.0  3.0"
      ]
     },
     "metadata": {},
     "output_type": "display_data"
    }
   ],
   "source": [
    "A = [2 1 1\n",
    "    4 3 3\n",
    "    6 7 10]\n",
    "\n",
    "L,U = LU(A)\n",
    "display(L)\n",
    "display(U)"
   ]
  },
  {
   "cell_type": "code",
   "execution_count": null,
   "id": "b205c79c-2474-4d1a-8043-1616aa9231c7",
   "metadata": {},
   "outputs": [],
   "source": []
  }
 ],
 "metadata": {
  "kernelspec": {
   "display_name": "Julia 1.9.2",
   "language": "julia",
   "name": "julia-1.9"
  },
  "language_info": {
   "file_extension": ".jl",
   "mimetype": "application/julia",
   "name": "julia",
   "version": "1.9.2"
  }
 },
 "nbformat": 4,
 "nbformat_minor": 5
}
